{
 "cells": [
  {
   "cell_type": "markdown",
   "source": [
    "# Pre-Processing and Training Data"
   ],
   "metadata": {}
  },
  {
   "cell_type": "markdown",
   "source": [
    "### Note that some scaling and transforming occurred in the updated EDA capstone <a href=\"https://github.com/trentleslie/Springboard/blob/main/16.3%20Capstone%20Two%20-%20Pre-processing%20and%20Training%20Data%20Development/2_exploratory_data_analysis.ipynb\">here</a>."
   ],
   "metadata": {}
  },
  {
   "cell_type": "markdown",
   "source": [
    "## Imports"
   ],
   "metadata": {}
  },
  {
   "cell_type": "code",
   "execution_count": 102,
   "source": [
    "import pandas as pd\r\n",
    "import numpy as np\r\n",
    "import os\r\n",
    "import pickle\r\n",
    "import matplotlib.pyplot as plt\r\n",
    "import seaborn as sns\r\n",
    "from sklearn import __version__ as sklearn_version\r\n",
    "from sklearn.decomposition import PCA\r\n",
    "from sklearn.preprocessing import scale\r\n",
    "from sklearn.model_selection import train_test_split, cross_validate, GridSearchCV, learning_curve\r\n",
    "from sklearn.preprocessing import StandardScaler, MinMaxScaler\r\n",
    "from sklearn.dummy import DummyRegressor\r\n",
    "from sklearn.linear_model import LinearRegression\r\n",
    "from sklearn.ensemble import RandomForestRegressor\r\n",
    "from sklearn.ensemble import ExtraTreesRegressor\r\n",
    "from sklearn.metrics import r2_score, mean_squared_error, mean_absolute_error\r\n",
    "from sklearn.pipeline import make_pipeline\r\n",
    "from sklearn.impute import SimpleImputer\r\n",
    "from sklearn.feature_selection import SelectKBest, f_regression\r\n",
    "import datetime\r\n",
    "import lazypredict\r\n",
    "from lazypredict.Supervised import LazyRegressor\r\n",
    "\r\n",
    "from library.sb_utils import save_file"
   ],
   "outputs": [],
   "metadata": {}
  },
  {
   "cell_type": "markdown",
   "source": [
    "## Load Data"
   ],
   "metadata": {}
  },
  {
   "cell_type": "code",
   "execution_count": 103,
   "source": [
    "batch_data = pd.read_csv('./data/batch_data_clean_log.csv')\r\n",
    "print(batch_data.head())\r\n",
    "batch_data_dropna = batch_data.dropna()\r\n",
    "\r\n",
    "recipe_data = pd.read_csv('./data/recipe_data_clean_log.csv')\r\n",
    "print(recipe_data.head())\r\n",
    "recipe_data_dropna = recipe_data.dropna()"
   ],
   "outputs": [
    {
     "output_type": "stream",
     "name": "stdout",
     "text": [
      "   rcp_id  base_malt_pct_log  Boil Kettle_log  Whirlpool_log  Fermenter_log  \\\n",
      "0     102               0.47             0.79           0.22           0.54   \n",
      "1     102               0.47             0.79           0.22           0.54   \n",
      "2     102               0.47             0.79           0.22           0.54   \n",
      "3     102               0.47             0.79           0.22           0.54   \n",
      "4     102               0.47             0.79           0.22           0.54   \n",
      "\n",
      "   Total Hops_log  fermenter_temperature_log  cu_low_log  cu_high_log  \\\n",
      "0            0.76                       0.02        0.97         0.93   \n",
      "1            0.76                       0.02        0.97         0.93   \n",
      "2            0.76                       1.12       -0.29        -0.47   \n",
      "3            0.76                       1.12        0.58         1.13   \n",
      "4            0.76                       0.11        0.28         1.13   \n",
      "\n",
      "   cu_setpoint_log  pre_run_dump_volume_log  original_gravity_log  \\\n",
      "0            -0.71                      nan                  0.37   \n",
      "1            -0.71                      nan                  0.37   \n",
      "2            -0.71                      nan                  0.43   \n",
      "3             0.74                      nan                  0.37   \n",
      "4             2.59                      nan                  0.34   \n",
      "\n",
      "   clar_eff_log  \n",
      "0          0.07  \n",
      "1          0.07  \n",
      "2         -0.39  \n",
      "3         -0.58  \n",
      "4          0.00  \n",
      "   rcp_id  base_malt_pct_log  Boil Kettle_log  Whirlpool_log  Fermenter_log  \\\n",
      "0      75               0.92             1.49           1.22           1.49   \n",
      "1      76               0.32             0.87          -0.63           0.70   \n",
      "2      78               1.20              nan            nan            nan   \n",
      "3      87              -0.09            -0.12           0.32          -0.01   \n",
      "4      89               0.09            -0.44          -0.87          -1.01   \n",
      "\n",
      "   Total Hops_log  fermenter_temperature_log  cu_low_log  cu_high_log  \\\n",
      "0            1.53                       0.76       -0.80        -0.18   \n",
      "1            0.81                       0.60       -0.45         0.00   \n",
      "2             nan                       0.36       -0.17         0.09   \n",
      "3           -0.13                       0.36       -0.73        -0.25   \n",
      "4           -0.74                       2.09       -0.03         0.00   \n",
      "\n",
      "   cu_setpoint_log  pre_run_dump_volume_log  original_gravity_log  \\\n",
      "0            -0.08                     0.14                  0.72   \n",
      "1             0.25                    -0.06                 -1.21   \n",
      "2            -0.08                      nan                 -1.30   \n",
      "3            -0.89                     2.25                 -0.06   \n",
      "4            -0.26                      nan                 -0.98   \n",
      "\n",
      "   clar_eff_log  \n",
      "0         -0.99  \n",
      "1          0.68  \n",
      "2          1.87  \n",
      "3         -0.33  \n",
      "4          2.21  \n"
     ]
    }
   ],
   "metadata": {
    "scrolled": true
   }
  },
  {
   "cell_type": "code",
   "execution_count": 104,
   "source": [
    "print(batch_data.shape)\r\n",
    "print(recipe_data.shape)"
   ],
   "outputs": [
    {
     "output_type": "stream",
     "name": "stdout",
     "text": [
      "(1113, 13)\n",
      "(269, 13)\n"
     ]
    }
   ],
   "metadata": {}
  },
  {
   "cell_type": "markdown",
   "source": [
    "### The rcp_id is a nominal category, not really an integer, so get_dummies() will be implemented.\r\n",
    "### In practice, however, this won't help predict any new recipes. So I'm leaving rcp_id out of further model analysis."
   ],
   "metadata": {}
  },
  {
   "cell_type": "code",
   "execution_count": 105,
   "source": [
    "batch_data_dummies = batch_data.merge(pd.get_dummies(batch_data['rcp_id']), left_index=True, right_index=True)\r\n",
    "batch_data_dummies.head()"
   ],
   "outputs": [
    {
     "output_type": "execute_result",
     "data": {
      "text/html": [
       "<div>\n",
       "<style scoped>\n",
       "    .dataframe tbody tr th:only-of-type {\n",
       "        vertical-align: middle;\n",
       "    }\n",
       "\n",
       "    .dataframe tbody tr th {\n",
       "        vertical-align: top;\n",
       "    }\n",
       "\n",
       "    .dataframe thead th {\n",
       "        text-align: right;\n",
       "    }\n",
       "</style>\n",
       "<table border=\"1\" class=\"dataframe\">\n",
       "  <thead>\n",
       "    <tr style=\"text-align: right;\">\n",
       "      <th></th>\n",
       "      <th>rcp_id</th>\n",
       "      <th>base_malt_pct_log</th>\n",
       "      <th>Boil Kettle_log</th>\n",
       "      <th>Whirlpool_log</th>\n",
       "      <th>Fermenter_log</th>\n",
       "      <th>Total Hops_log</th>\n",
       "      <th>fermenter_temperature_log</th>\n",
       "      <th>cu_low_log</th>\n",
       "      <th>cu_high_log</th>\n",
       "      <th>cu_setpoint_log</th>\n",
       "      <th>...</th>\n",
       "      <th>418</th>\n",
       "      <th>419</th>\n",
       "      <th>420</th>\n",
       "      <th>421</th>\n",
       "      <th>422</th>\n",
       "      <th>423</th>\n",
       "      <th>424</th>\n",
       "      <th>425</th>\n",
       "      <th>428</th>\n",
       "      <th>429</th>\n",
       "    </tr>\n",
       "  </thead>\n",
       "  <tbody>\n",
       "    <tr>\n",
       "      <th>0</th>\n",
       "      <td>102</td>\n",
       "      <td>0.47</td>\n",
       "      <td>0.79</td>\n",
       "      <td>0.22</td>\n",
       "      <td>0.54</td>\n",
       "      <td>0.76</td>\n",
       "      <td>0.02</td>\n",
       "      <td>0.97</td>\n",
       "      <td>0.93</td>\n",
       "      <td>-0.71</td>\n",
       "      <td>...</td>\n",
       "      <td>0</td>\n",
       "      <td>0</td>\n",
       "      <td>0</td>\n",
       "      <td>0</td>\n",
       "      <td>0</td>\n",
       "      <td>0</td>\n",
       "      <td>0</td>\n",
       "      <td>0</td>\n",
       "      <td>0</td>\n",
       "      <td>0</td>\n",
       "    </tr>\n",
       "    <tr>\n",
       "      <th>1</th>\n",
       "      <td>102</td>\n",
       "      <td>0.47</td>\n",
       "      <td>0.79</td>\n",
       "      <td>0.22</td>\n",
       "      <td>0.54</td>\n",
       "      <td>0.76</td>\n",
       "      <td>0.02</td>\n",
       "      <td>0.97</td>\n",
       "      <td>0.93</td>\n",
       "      <td>-0.71</td>\n",
       "      <td>...</td>\n",
       "      <td>0</td>\n",
       "      <td>0</td>\n",
       "      <td>0</td>\n",
       "      <td>0</td>\n",
       "      <td>0</td>\n",
       "      <td>0</td>\n",
       "      <td>0</td>\n",
       "      <td>0</td>\n",
       "      <td>0</td>\n",
       "      <td>0</td>\n",
       "    </tr>\n",
       "    <tr>\n",
       "      <th>2</th>\n",
       "      <td>102</td>\n",
       "      <td>0.47</td>\n",
       "      <td>0.79</td>\n",
       "      <td>0.22</td>\n",
       "      <td>0.54</td>\n",
       "      <td>0.76</td>\n",
       "      <td>1.12</td>\n",
       "      <td>-0.29</td>\n",
       "      <td>-0.47</td>\n",
       "      <td>-0.71</td>\n",
       "      <td>...</td>\n",
       "      <td>0</td>\n",
       "      <td>0</td>\n",
       "      <td>0</td>\n",
       "      <td>0</td>\n",
       "      <td>0</td>\n",
       "      <td>0</td>\n",
       "      <td>0</td>\n",
       "      <td>0</td>\n",
       "      <td>0</td>\n",
       "      <td>0</td>\n",
       "    </tr>\n",
       "    <tr>\n",
       "      <th>3</th>\n",
       "      <td>102</td>\n",
       "      <td>0.47</td>\n",
       "      <td>0.79</td>\n",
       "      <td>0.22</td>\n",
       "      <td>0.54</td>\n",
       "      <td>0.76</td>\n",
       "      <td>1.12</td>\n",
       "      <td>0.58</td>\n",
       "      <td>1.13</td>\n",
       "      <td>0.74</td>\n",
       "      <td>...</td>\n",
       "      <td>0</td>\n",
       "      <td>0</td>\n",
       "      <td>0</td>\n",
       "      <td>0</td>\n",
       "      <td>0</td>\n",
       "      <td>0</td>\n",
       "      <td>0</td>\n",
       "      <td>0</td>\n",
       "      <td>0</td>\n",
       "      <td>0</td>\n",
       "    </tr>\n",
       "    <tr>\n",
       "      <th>4</th>\n",
       "      <td>102</td>\n",
       "      <td>0.47</td>\n",
       "      <td>0.79</td>\n",
       "      <td>0.22</td>\n",
       "      <td>0.54</td>\n",
       "      <td>0.76</td>\n",
       "      <td>0.11</td>\n",
       "      <td>0.28</td>\n",
       "      <td>1.13</td>\n",
       "      <td>2.59</td>\n",
       "      <td>...</td>\n",
       "      <td>0</td>\n",
       "      <td>0</td>\n",
       "      <td>0</td>\n",
       "      <td>0</td>\n",
       "      <td>0</td>\n",
       "      <td>0</td>\n",
       "      <td>0</td>\n",
       "      <td>0</td>\n",
       "      <td>0</td>\n",
       "      <td>0</td>\n",
       "    </tr>\n",
       "  </tbody>\n",
       "</table>\n",
       "<p>5 rows × 282 columns</p>\n",
       "</div>"
      ],
      "text/plain": [
       "   rcp_id  base_malt_pct_log  Boil Kettle_log  Whirlpool_log  Fermenter_log  \\\n",
       "0     102               0.47             0.79           0.22           0.54   \n",
       "1     102               0.47             0.79           0.22           0.54   \n",
       "2     102               0.47             0.79           0.22           0.54   \n",
       "3     102               0.47             0.79           0.22           0.54   \n",
       "4     102               0.47             0.79           0.22           0.54   \n",
       "\n",
       "   Total Hops_log  fermenter_temperature_log  cu_low_log  cu_high_log  \\\n",
       "0            0.76                       0.02        0.97         0.93   \n",
       "1            0.76                       0.02        0.97         0.93   \n",
       "2            0.76                       1.12       -0.29        -0.47   \n",
       "3            0.76                       1.12        0.58         1.13   \n",
       "4            0.76                       0.11        0.28         1.13   \n",
       "\n",
       "   cu_setpoint_log  ...  418  419  420  421  422  423  424  425  428  429  \n",
       "0            -0.71  ...    0    0    0    0    0    0    0    0    0    0  \n",
       "1            -0.71  ...    0    0    0    0    0    0    0    0    0    0  \n",
       "2            -0.71  ...    0    0    0    0    0    0    0    0    0    0  \n",
       "3             0.74  ...    0    0    0    0    0    0    0    0    0    0  \n",
       "4             2.59  ...    0    0    0    0    0    0    0    0    0    0  \n",
       "\n",
       "[5 rows x 282 columns]"
      ]
     },
     "metadata": {},
     "execution_count": 105
    }
   ],
   "metadata": {}
  },
  {
   "cell_type": "code",
   "execution_count": 106,
   "source": [
    "recipe_data_dummies = recipe_data.merge(pd.get_dummies(recipe_data['rcp_id']), left_index=True, right_index=True)\r\n",
    "recipe_data_dummies.head()"
   ],
   "outputs": [
    {
     "output_type": "execute_result",
     "data": {
      "text/html": [
       "<div>\n",
       "<style scoped>\n",
       "    .dataframe tbody tr th:only-of-type {\n",
       "        vertical-align: middle;\n",
       "    }\n",
       "\n",
       "    .dataframe tbody tr th {\n",
       "        vertical-align: top;\n",
       "    }\n",
       "\n",
       "    .dataframe thead th {\n",
       "        text-align: right;\n",
       "    }\n",
       "</style>\n",
       "<table border=\"1\" class=\"dataframe\">\n",
       "  <thead>\n",
       "    <tr style=\"text-align: right;\">\n",
       "      <th></th>\n",
       "      <th>rcp_id</th>\n",
       "      <th>base_malt_pct_log</th>\n",
       "      <th>Boil Kettle_log</th>\n",
       "      <th>Whirlpool_log</th>\n",
       "      <th>Fermenter_log</th>\n",
       "      <th>Total Hops_log</th>\n",
       "      <th>fermenter_temperature_log</th>\n",
       "      <th>cu_low_log</th>\n",
       "      <th>cu_high_log</th>\n",
       "      <th>cu_setpoint_log</th>\n",
       "      <th>...</th>\n",
       "      <th>418</th>\n",
       "      <th>419</th>\n",
       "      <th>420</th>\n",
       "      <th>421</th>\n",
       "      <th>422</th>\n",
       "      <th>423</th>\n",
       "      <th>424</th>\n",
       "      <th>425</th>\n",
       "      <th>428</th>\n",
       "      <th>429</th>\n",
       "    </tr>\n",
       "  </thead>\n",
       "  <tbody>\n",
       "    <tr>\n",
       "      <th>0</th>\n",
       "      <td>75</td>\n",
       "      <td>0.92</td>\n",
       "      <td>1.49</td>\n",
       "      <td>1.22</td>\n",
       "      <td>1.49</td>\n",
       "      <td>1.53</td>\n",
       "      <td>0.76</td>\n",
       "      <td>-0.80</td>\n",
       "      <td>-0.18</td>\n",
       "      <td>-0.08</td>\n",
       "      <td>...</td>\n",
       "      <td>0</td>\n",
       "      <td>0</td>\n",
       "      <td>0</td>\n",
       "      <td>0</td>\n",
       "      <td>0</td>\n",
       "      <td>0</td>\n",
       "      <td>0</td>\n",
       "      <td>0</td>\n",
       "      <td>0</td>\n",
       "      <td>0</td>\n",
       "    </tr>\n",
       "    <tr>\n",
       "      <th>1</th>\n",
       "      <td>76</td>\n",
       "      <td>0.32</td>\n",
       "      <td>0.87</td>\n",
       "      <td>-0.63</td>\n",
       "      <td>0.70</td>\n",
       "      <td>0.81</td>\n",
       "      <td>0.60</td>\n",
       "      <td>-0.45</td>\n",
       "      <td>0.00</td>\n",
       "      <td>0.25</td>\n",
       "      <td>...</td>\n",
       "      <td>0</td>\n",
       "      <td>0</td>\n",
       "      <td>0</td>\n",
       "      <td>0</td>\n",
       "      <td>0</td>\n",
       "      <td>0</td>\n",
       "      <td>0</td>\n",
       "      <td>0</td>\n",
       "      <td>0</td>\n",
       "      <td>0</td>\n",
       "    </tr>\n",
       "    <tr>\n",
       "      <th>2</th>\n",
       "      <td>78</td>\n",
       "      <td>1.20</td>\n",
       "      <td>nan</td>\n",
       "      <td>nan</td>\n",
       "      <td>nan</td>\n",
       "      <td>nan</td>\n",
       "      <td>0.36</td>\n",
       "      <td>-0.17</td>\n",
       "      <td>0.09</td>\n",
       "      <td>-0.08</td>\n",
       "      <td>...</td>\n",
       "      <td>0</td>\n",
       "      <td>0</td>\n",
       "      <td>0</td>\n",
       "      <td>0</td>\n",
       "      <td>0</td>\n",
       "      <td>0</td>\n",
       "      <td>0</td>\n",
       "      <td>0</td>\n",
       "      <td>0</td>\n",
       "      <td>0</td>\n",
       "    </tr>\n",
       "    <tr>\n",
       "      <th>3</th>\n",
       "      <td>87</td>\n",
       "      <td>-0.09</td>\n",
       "      <td>-0.12</td>\n",
       "      <td>0.32</td>\n",
       "      <td>-0.01</td>\n",
       "      <td>-0.13</td>\n",
       "      <td>0.36</td>\n",
       "      <td>-0.73</td>\n",
       "      <td>-0.25</td>\n",
       "      <td>-0.89</td>\n",
       "      <td>...</td>\n",
       "      <td>0</td>\n",
       "      <td>0</td>\n",
       "      <td>0</td>\n",
       "      <td>0</td>\n",
       "      <td>0</td>\n",
       "      <td>0</td>\n",
       "      <td>0</td>\n",
       "      <td>0</td>\n",
       "      <td>0</td>\n",
       "      <td>0</td>\n",
       "    </tr>\n",
       "    <tr>\n",
       "      <th>4</th>\n",
       "      <td>89</td>\n",
       "      <td>0.09</td>\n",
       "      <td>-0.44</td>\n",
       "      <td>-0.87</td>\n",
       "      <td>-1.01</td>\n",
       "      <td>-0.74</td>\n",
       "      <td>2.09</td>\n",
       "      <td>-0.03</td>\n",
       "      <td>0.00</td>\n",
       "      <td>-0.26</td>\n",
       "      <td>...</td>\n",
       "      <td>0</td>\n",
       "      <td>0</td>\n",
       "      <td>0</td>\n",
       "      <td>0</td>\n",
       "      <td>0</td>\n",
       "      <td>0</td>\n",
       "      <td>0</td>\n",
       "      <td>0</td>\n",
       "      <td>0</td>\n",
       "      <td>0</td>\n",
       "    </tr>\n",
       "  </tbody>\n",
       "</table>\n",
       "<p>5 rows × 282 columns</p>\n",
       "</div>"
      ],
      "text/plain": [
       "   rcp_id  base_malt_pct_log  Boil Kettle_log  Whirlpool_log  Fermenter_log  \\\n",
       "0      75               0.92             1.49           1.22           1.49   \n",
       "1      76               0.32             0.87          -0.63           0.70   \n",
       "2      78               1.20              nan            nan            nan   \n",
       "3      87              -0.09            -0.12           0.32          -0.01   \n",
       "4      89               0.09            -0.44          -0.87          -1.01   \n",
       "\n",
       "   Total Hops_log  fermenter_temperature_log  cu_low_log  cu_high_log  \\\n",
       "0            1.53                       0.76       -0.80        -0.18   \n",
       "1            0.81                       0.60       -0.45         0.00   \n",
       "2             nan                       0.36       -0.17         0.09   \n",
       "3           -0.13                       0.36       -0.73        -0.25   \n",
       "4           -0.74                       2.09       -0.03         0.00   \n",
       "\n",
       "   cu_setpoint_log  ...  418  419  420  421  422  423  424  425  428  429  \n",
       "0            -0.08  ...    0    0    0    0    0    0    0    0    0    0  \n",
       "1             0.25  ...    0    0    0    0    0    0    0    0    0    0  \n",
       "2            -0.08  ...    0    0    0    0    0    0    0    0    0    0  \n",
       "3            -0.89  ...    0    0    0    0    0    0    0    0    0    0  \n",
       "4            -0.26  ...    0    0    0    0    0    0    0    0    0    0  \n",
       "\n",
       "[5 rows x 282 columns]"
      ]
     },
     "metadata": {},
     "execution_count": 106
    }
   ],
   "metadata": {}
  },
  {
   "cell_type": "code",
   "execution_count": 107,
   "source": [
    "# removing rcp_id\r\n",
    "batch_data = batch_data.drop('rcp_id', 1)\r\n",
    "recipe_data = recipe_data.drop('rcp_id', 1)"
   ],
   "outputs": [],
   "metadata": {}
  },
  {
   "cell_type": "markdown",
   "source": [
    "## Train/Test Split"
   ],
   "metadata": {}
  },
  {
   "cell_type": "markdown",
   "source": [
    "### Partition sizes for a 70/30 train/test split"
   ],
   "metadata": {}
  },
  {
   "cell_type": "code",
   "execution_count": 211,
   "source": [
    "len(batch_data) * .7, len(batch_data) * .3, len(recipe_data) * .7, len(recipe_data) * .3"
   ],
   "outputs": [
    {
     "output_type": "execute_result",
     "data": {
      "text/plain": [
       "(779.0999999999999, 333.9, 188.29999999999998, 80.7)"
      ]
     },
     "metadata": {},
     "execution_count": 211
    }
   ],
   "metadata": {}
  },
  {
   "cell_type": "code",
   "execution_count": 212,
   "source": [
    "Xbatch_train, Xbatch_test, ybatch_train, ybatch_test = train_test_split(batch_data.drop(columns='clar_eff_log'), \r\n",
    "                                                    batch_data.clar_eff_log, test_size=0.3, \r\n",
    "                                                    random_state=47)\r\n",
    "                            \r\n",
    "Xrcp_train, Xrcp_test, yrcp_train, yrcp_test = train_test_split(recipe_data.drop(columns='clar_eff_log'), \r\n",
    "                                                    recipe_data.clar_eff_log, test_size=0.3, \r\n",
    "                                                    random_state=47)\r\n",
    "\r\n",
    "Xbatch_train_dropna, Xbatch_test_dropna, ybatch_train_dropna, ybatch_test_dropna = train_test_split(batch_data_dropna.drop(columns='clar_eff_log'), \r\n",
    "                                                    batch_data_dropna.clar_eff_log, test_size=0.3, \r\n",
    "                                                    random_state=47)\r\n",
    "                            \r\n",
    "Xrcp_train_dropna, Xrcp_test_dropna, yrcp_train_dropna, yrcp_test_dropna = train_test_split(recipe_data_dropna.drop(columns='clar_eff_log'), \r\n",
    "                                                    recipe_data_dropna.clar_eff_log, test_size=0.3, \r\n",
    "                                                    random_state=47)"
   ],
   "outputs": [],
   "metadata": {}
  },
  {
   "cell_type": "code",
   "execution_count": 213,
   "source": [
    "Xbatch_train.shape, Xbatch_test.shape, Xrcp_train.shape, Xrcp_test.shape, Xbatch_train_dropna.shape, Xbatch_test_dropna.shape, Xrcp_train_dropna.shape, Xrcp_test_dropna.shape"
   ],
   "outputs": [
    {
     "output_type": "execute_result",
     "data": {
      "text/plain": [
       "((779, 11),\n",
       " (334, 11),\n",
       " (188, 11),\n",
       " (81, 11),\n",
       " (277, 12),\n",
       " (119, 12),\n",
       " (49, 12),\n",
       " (21, 12))"
      ]
     },
     "metadata": {},
     "execution_count": 213
    }
   ],
   "metadata": {}
  },
  {
   "cell_type": "code",
   "execution_count": 214,
   "source": [
    "ybatch_train.shape, ybatch_test.shape, yrcp_train.shape, yrcp_test.shape, ybatch_train_dropna.shape, ybatch_test_dropna.shape, yrcp_train_dropna.shape, yrcp_test_dropna.shape"
   ],
   "outputs": [
    {
     "output_type": "execute_result",
     "data": {
      "text/plain": [
       "((779,), (334,), (188,), (81,), (277,), (119,), (49,), (21,))"
      ]
     },
     "metadata": {},
     "execution_count": 214
    }
   ],
   "metadata": {}
  },
  {
   "cell_type": "code",
   "execution_count": 215,
   "source": [
    "#Code task 2#\r\n",
    "#Check the `dtypes` attribute of `X_train` to verify all features are numeric\r\n",
    "Xbatch_train.dtypes, Xrcp_train.dtypes"
   ],
   "outputs": [
    {
     "output_type": "execute_result",
     "data": {
      "text/plain": [
       "(base_malt_pct_log            float64\n",
       " Boil Kettle_log              float64\n",
       " Whirlpool_log                float64\n",
       " Fermenter_log                float64\n",
       " Total Hops_log               float64\n",
       " fermenter_temperature_log    float64\n",
       " cu_low_log                   float64\n",
       " cu_high_log                  float64\n",
       " cu_setpoint_log              float64\n",
       " pre_run_dump_volume_log      float64\n",
       " original_gravity_log         float64\n",
       " dtype: object,\n",
       " base_malt_pct_log            float64\n",
       " Boil Kettle_log              float64\n",
       " Whirlpool_log                float64\n",
       " Fermenter_log                float64\n",
       " Total Hops_log               float64\n",
       " fermenter_temperature_log    float64\n",
       " cu_low_log                   float64\n",
       " cu_high_log                  float64\n",
       " cu_setpoint_log              float64\n",
       " pre_run_dump_volume_log      float64\n",
       " original_gravity_log         float64\n",
       " dtype: object)"
      ]
     },
     "metadata": {},
     "execution_count": 215
    }
   ],
   "metadata": {}
  },
  {
   "cell_type": "code",
   "execution_count": 216,
   "source": [
    "#Code task 3#\r\n",
    "#Repeat this check for the test split in `X_test`\r\n",
    "Xbatch_test.dtypes, Xrcp_test.dtypes"
   ],
   "outputs": [
    {
     "output_type": "execute_result",
     "data": {
      "text/plain": [
       "(base_malt_pct_log            float64\n",
       " Boil Kettle_log              float64\n",
       " Whirlpool_log                float64\n",
       " Fermenter_log                float64\n",
       " Total Hops_log               float64\n",
       " fermenter_temperature_log    float64\n",
       " cu_low_log                   float64\n",
       " cu_high_log                  float64\n",
       " cu_setpoint_log              float64\n",
       " pre_run_dump_volume_log      float64\n",
       " original_gravity_log         float64\n",
       " dtype: object,\n",
       " base_malt_pct_log            float64\n",
       " Boil Kettle_log              float64\n",
       " Whirlpool_log                float64\n",
       " Fermenter_log                float64\n",
       " Total Hops_log               float64\n",
       " fermenter_temperature_log    float64\n",
       " cu_low_log                   float64\n",
       " cu_high_log                  float64\n",
       " cu_setpoint_log              float64\n",
       " pre_run_dump_volume_log      float64\n",
       " original_gravity_log         float64\n",
       " dtype: object)"
      ]
     },
     "metadata": {},
     "execution_count": 216
    }
   ],
   "metadata": {}
  },
  {
   "cell_type": "markdown",
   "source": [
    "## Initial Not-Even-A-Model<a id='4.7_Initial_Not-Even-A-Model'></a>"
   ],
   "metadata": {}
  },
  {
   "cell_type": "markdown",
   "source": [
    "### Using the mean is as a predictor."
   ],
   "metadata": {}
  },
  {
   "cell_type": "code",
   "execution_count": 217,
   "source": [
    "#Code task 4#\r\n",
    "#Calculate the mean of `y_train`\r\n",
    "batch_train_mean = ybatch_train.mean()\r\n",
    "rcp_train_mean = yrcp_train.mean()\r\n",
    "batch_train_mean, rcp_train_mean"
   ],
   "outputs": [
    {
     "output_type": "execute_result",
     "data": {
      "text/plain": [
       "(0.009310898472114526, -0.013505455739161308)"
      ]
     },
     "metadata": {},
     "execution_count": 217
    }
   ],
   "metadata": {}
  },
  {
   "cell_type": "markdown",
   "source": [
    "`sklearn`'s `DummyRegressor` easily does this:"
   ],
   "metadata": {}
  },
  {
   "cell_type": "code",
   "execution_count": 218,
   "source": [
    "#Code task 5#\r\n",
    "#Fit the dummy regressor on the training data\r\n",
    "#Hint, call its `.fit()` method with `X_train` and `y_train` as arguments\r\n",
    "#Then print the object's `constant_` attribute and verify it's the same as the mean above\r\n",
    "batch_dumb_reg = DummyRegressor(strategy='mean')\r\n",
    "batch_dumb_reg.fit(Xbatch_train, ybatch_train)\r\n",
    "rcp_dumb_reg = DummyRegressor(strategy='mean')\r\n",
    "rcp_dumb_reg.fit(Xrcp_train, yrcp_train)\r\n",
    "\r\n",
    "batch_dumb_reg.constant_, rcp_dumb_reg.constant_"
   ],
   "outputs": [
    {
     "output_type": "execute_result",
     "data": {
      "text/plain": [
       "(array([[0.0093109]]), array([[-0.01350546]]))"
      ]
     },
     "metadata": {},
     "execution_count": 218
    }
   ],
   "metadata": {}
  },
  {
   "cell_type": "markdown",
   "source": [
    "### 4.7.1 Metrics<a id='4.7.1_Metrics'></a>"
   ],
   "metadata": {}
  },
  {
   "cell_type": "code",
   "execution_count": 219,
   "source": [
    "batch_y_tr_pred = batch_dumb_reg.predict(Xbatch_train)\r\n",
    "rcp_y_tr_pred = rcp_dumb_reg.predict(Xrcp_train)\r\n",
    "batch_y_tr_pred[:5], rcp_y_tr_pred[:5]"
   ],
   "outputs": [
    {
     "output_type": "execute_result",
     "data": {
      "text/plain": [
       "(array([0.0093109, 0.0093109, 0.0093109, 0.0093109, 0.0093109]),\n",
       " array([-0.01350546, -0.01350546, -0.01350546, -0.01350546, -0.01350546]))"
      ]
     },
     "metadata": {},
     "execution_count": 219
    }
   ],
   "metadata": {}
  },
  {
   "cell_type": "code",
   "execution_count": 220,
   "source": [
    "batch_y_te_pred = batch_train_mean * np.ones(len(ybatch_test))\r\n",
    "rcp_y_te_pred = rcp_train_mean * np.ones(len(yrcp_test))"
   ],
   "outputs": [],
   "metadata": {}
  },
  {
   "cell_type": "markdown",
   "source": [
    "##### 4.7.2.0.1 R-squared<a id='4.7.2.0.1_R-squared'></a>"
   ],
   "metadata": {}
  },
  {
   "cell_type": "code",
   "execution_count": 221,
   "source": [
    "r2_score(ybatch_train, batch_y_tr_pred), r2_score(ybatch_test, batch_y_te_pred), r2_score(yrcp_train, rcp_y_tr_pred), r2_score(yrcp_test, rcp_y_te_pred)"
   ],
   "outputs": [
    {
     "output_type": "execute_result",
     "data": {
      "text/plain": [
       "(0.0, -0.0009052583542255022, 0.0, -0.0019081517391161817)"
      ]
     },
     "metadata": {},
     "execution_count": 221
    }
   ],
   "metadata": {}
  },
  {
   "cell_type": "markdown",
   "source": [
    "##### 4.7.2.0.2 Mean absolute error<a id='4.7.2.0.2_Mean_absolute_error'></a>"
   ],
   "metadata": {}
  },
  {
   "cell_type": "code",
   "execution_count": 222,
   "source": [
    "mean_absolute_error(ybatch_train, batch_y_tr_pred), mean_absolute_error(ybatch_test, batch_y_te_pred), mean_absolute_error(yrcp_train, rcp_y_tr_pred), mean_absolute_error(yrcp_test, rcp_y_te_pred)"
   ],
   "outputs": [
    {
     "output_type": "execute_result",
     "data": {
      "text/plain": [
       "(0.7968636591177362,\n",
       " 0.8242619528296811,\n",
       " 0.7965560575169336,\n",
       " 0.8430146427718417)"
      ]
     },
     "metadata": {},
     "execution_count": 222
    }
   ],
   "metadata": {}
  },
  {
   "cell_type": "markdown",
   "source": [
    "##### 4.7.2.0.3 Mean squared error<a id='4.7.2.0.3_Mean_squared_error'></a>"
   ],
   "metadata": {}
  },
  {
   "cell_type": "code",
   "execution_count": 223,
   "source": [
    "mean_squared_error(ybatch_train, batch_y_tr_pred), mean_squared_error(ybatch_test, batch_y_te_pred), mean_squared_error(yrcp_train, rcp_y_tr_pred), mean_squared_error(yrcp_test, rcp_y_te_pred)"
   ],
   "outputs": [
    {
     "output_type": "execute_result",
     "data": {
      "text/plain": [
       "(0.9725161082134292,\n",
       " 1.0643905413830161,\n",
       " 0.9760242584331331,\n",
       " 1.0562531394766825)"
      ]
     },
     "metadata": {},
     "execution_count": 223
    }
   ],
   "metadata": {}
  },
  {
   "cell_type": "markdown",
   "source": [
    "## 4.8 Initial Models<a id='4.8_Initial_Models'></a>"
   ],
   "metadata": {}
  },
  {
   "cell_type": "markdown",
   "source": [
    "### 4.8.1 Imputing missing feature (predictor) values<a id='4.8.1_Imputing_missing_feature_(predictor)_values'></a>"
   ],
   "metadata": {}
  },
  {
   "cell_type": "markdown",
   "source": [
    "There's missing values. Recall from your data exploration that many distributions were skewed. Your first thought might be to impute missing values using the median."
   ],
   "metadata": {}
  },
  {
   "cell_type": "markdown",
   "source": [
    "#### No impute - drop NA values"
   ],
   "metadata": {}
  },
  {
   "cell_type": "code",
   "execution_count": 224,
   "source": [
    "Xbatch_tr = Xbatch_train_dropna\r\n",
    "Xbatch_te = Xbatch_test_dropna\r\n",
    "\r\n",
    "Xrcp_tr = Xrcp_train_dropna\r\n",
    "Xrcp_te = Xrcp_test_dropna"
   ],
   "outputs": [],
   "metadata": {}
  },
  {
   "cell_type": "code",
   "execution_count": 225,
   "source": [
    "scaler_batch = StandardScaler()\r\n",
    "scaler_batch.fit(Xbatch_tr)\r\n",
    "Xbatch_tr_scaled = scaler_batch.transform(Xbatch_tr)\r\n",
    "Xbatch_te_scaled = scaler_batch.transform(Xbatch_te)\r\n",
    "\r\n",
    "scaler_rcp = StandardScaler()\r\n",
    "scaler_rcp.fit(Xrcp_tr)\r\n",
    "Xrcp_tr_scaled = scaler_rcp.transform(Xrcp_tr)\r\n",
    "Xrcp_te_scaled = scaler_rcp.transform(Xrcp_te)"
   ],
   "outputs": [],
   "metadata": {}
  },
  {
   "cell_type": "code",
   "execution_count": 226,
   "source": [
    "lm_batch = LinearRegression().fit(Xbatch_tr_scaled, ybatch_train_dropna)\r\n",
    "\r\n",
    "lm_rcp = LinearRegression().fit(Xrcp_tr_scaled, yrcp_train_dropna)"
   ],
   "outputs": [],
   "metadata": {}
  },
  {
   "cell_type": "code",
   "execution_count": 227,
   "source": [
    "#Call the `predict()` method of the model (`lm`) on both the (scaled) train and test data\r\n",
    "#Assign the predictions to `y_tr_pred` and `y_te_pred`, respectively\r\n",
    "ybatch_tr_pred = lm_batch.predict(Xbatch_tr_scaled)\r\n",
    "ybatch_te_pred = lm_batch.predict(Xbatch_te_scaled)\r\n",
    "\r\n",
    "yrcp_tr_pred = lm_rcp.predict(Xrcp_tr_scaled)\r\n",
    "yrcp_te_pred = lm_rcp.predict(Xrcp_te_scaled)"
   ],
   "outputs": [],
   "metadata": {}
  },
  {
   "cell_type": "code",
   "execution_count": 228,
   "source": [
    "# r^2 - train, test\r\n",
    "dropna_r2_batch = r2_score(ybatch_train_dropna, ybatch_tr_pred), r2_score(ybatch_test_dropna, ybatch_te_pred)\r\n",
    "print(dropna_r2_batch)\r\n",
    "\r\n",
    "dropna_r2_rcp = r2_score(yrcp_train_dropna, yrcp_tr_pred), r2_score(yrcp_test_dropna, yrcp_te_pred)\r\n",
    "print(dropna_r2_rcp)"
   ],
   "outputs": [
    {
     "output_type": "stream",
     "name": "stdout",
     "text": [
      "(0.3110499542627596, 0.39265331445711527)\n",
      "(0.6086476720558178, -0.06923998256364872)\n"
     ]
    }
   ],
   "metadata": {}
  },
  {
   "cell_type": "code",
   "execution_count": 229,
   "source": [
    "#Code task 12#\r\n",
    "#Now calculate the mean absolute error scores using `sklearn`'s `mean_absolute_error` function\r\n",
    "# as we did above for R^2\r\n",
    "# MAE - train, test\r\n",
    "dropna_mae = mean_absolute_error(ybatch_train_dropna, ybatch_tr_pred), mean_absolute_error(ybatch_test_dropna, ybatch_te_pred)\r\n",
    "print(dropna_mae)\r\n",
    "\r\n",
    "dropna_mae = mean_absolute_error(yrcp_train_dropna, yrcp_tr_pred), mean_absolute_error(yrcp_test_dropna, yrcp_te_pred)\r\n",
    "print(dropna_mae)"
   ],
   "outputs": [
    {
     "output_type": "stream",
     "name": "stdout",
     "text": [
      "(0.5611322615089411, 0.5961068007932)\n",
      "(0.5029578419982738, 0.9070449565247036)\n"
     ]
    }
   ],
   "metadata": {}
  },
  {
   "cell_type": "markdown",
   "source": [
    "#### Impute missing values with median"
   ],
   "metadata": {}
  },
  {
   "cell_type": "code",
   "execution_count": 230,
   "source": [
    "Xbatch_tr = Xbatch_train\r\n",
    "Xbatch_te = Xbatch_test\r\n",
    "\r\n",
    "Xrcp_tr = Xrcp_train\r\n",
    "Xrcp_te = Xrcp_test"
   ],
   "outputs": [],
   "metadata": {}
  },
  {
   "cell_type": "code",
   "execution_count": 231,
   "source": [
    "# These are the values we'll use to fill in any missing values\r\n",
    "Xbatch_defaults_median = Xbatch_train.median()\r\n",
    "Xrcp_defaults_median = Xrcp_train.median()\r\n",
    "\r\n",
    "Xbatch_defaults_median, Xrcp_defaults_median"
   ],
   "outputs": [
    {
     "output_type": "execute_result",
     "data": {
      "text/plain": [
       "(base_malt_pct_log            0.31\n",
       " Boil Kettle_log              0.18\n",
       " Whirlpool_log                0.22\n",
       " Fermenter_log                0.54\n",
       " Total Hops_log               0.34\n",
       " fermenter_temperature_log    0.02\n",
       " cu_low_log                  -0.08\n",
       " cu_high_log                  0.04\n",
       " cu_setpoint_log             -0.26\n",
       " pre_run_dump_volume_log     -0.10\n",
       " original_gravity_log         0.36\n",
       " dtype: float64,\n",
       " base_malt_pct_log            0.01\n",
       " Boil Kettle_log             -0.44\n",
       " Whirlpool_log                0.08\n",
       " Fermenter_log                0.00\n",
       " Total Hops_log              -0.37\n",
       " fermenter_temperature_log    0.09\n",
       " cu_low_log                  -0.14\n",
       " cu_high_log                  0.00\n",
       " cu_setpoint_log             -0.08\n",
       " pre_run_dump_volume_log     -0.28\n",
       " original_gravity_log        -0.13\n",
       " dtype: float64)"
      ]
     },
     "metadata": {},
     "execution_count": 231
    }
   ],
   "metadata": {}
  },
  {
   "cell_type": "code",
   "execution_count": 129,
   "source": [
    "#Code task 9#\r\n",
    "#Call `X_train` and `X_test`'s `fillna()` method, passing `X_defaults_median` as the values to use\r\n",
    "#Assign the results to `X_tr` and `X_te`, respectively\r\n",
    "Xbatch_tr = Xbatch_train.fillna(Xbatch_defaults_median)\r\n",
    "Xbatch_te = Xbatch_test.fillna(Xbatch_defaults_median)\r\n",
    "\r\n",
    "Xrcp_tr = Xrcp_train.fillna(Xrcp_defaults_median)\r\n",
    "Xrcp_te = Xrcp_test.fillna(Xrcp_defaults_median)"
   ],
   "outputs": [],
   "metadata": {}
  },
  {
   "cell_type": "code",
   "execution_count": 130,
   "source": [
    "#Code task 10#\r\n",
    "#Call the StandardScaler`s fit method on `X_tr` to fit the scaler\r\n",
    "#then use it's `transform()` method to apply the scaling to both the train and test split\r\n",
    "#data (`X_tr` and `X_te`), naming the results `X_tr_scaled` and `X_te_scaled`, respectively\r\n",
    "scaler_batch = StandardScaler()\r\n",
    "scaler_batch.fit(Xbatch_tr)\r\n",
    "Xbatch_tr_scaled = scaler_batch.transform(Xbatch_tr)\r\n",
    "Xbatch_te_scaled = scaler_batch.transform(Xbatch_te)\r\n",
    "\r\n",
    "scaler_rcp = StandardScaler()\r\n",
    "scaler_rcp.fit(Xrcp_tr)\r\n",
    "Xrcp_tr_scaled = scaler_rcp.transform(Xrcp_tr)\r\n",
    "Xrcp_te_scaled = scaler_rcp.transform(Xrcp_te)"
   ],
   "outputs": [],
   "metadata": {}
  },
  {
   "cell_type": "code",
   "execution_count": 131,
   "source": [
    "lm_batch = LinearRegression().fit(Xbatch_tr_scaled, ybatch_train)\r\n",
    "\r\n",
    "lm_rcp = LinearRegression().fit(Xrcp_tr_scaled, yrcp_train)"
   ],
   "outputs": [],
   "metadata": {}
  },
  {
   "cell_type": "code",
   "execution_count": 132,
   "source": [
    "#Code task 11#\r\n",
    "#Call the `predict()` method of the model (`lm`) on both the (scaled) train and test data\r\n",
    "#Assign the predictions to `y_tr_pred` and `y_te_pred`, respectively\r\n",
    "ybatch_tr_pred = lm_batch.predict(Xbatch_tr_scaled)\r\n",
    "ybatch_te_pred = lm_batch.predict(Xbatch_te_scaled)\r\n",
    "\r\n",
    "yrcp_tr_pred = lm_rcp.predict(Xrcp_tr_scaled)\r\n",
    "yrcp_te_pred = lm_rcp.predict(Xrcp_te_scaled)"
   ],
   "outputs": [],
   "metadata": {}
  },
  {
   "cell_type": "code",
   "execution_count": 133,
   "source": [
    "# r^2 - train, test\r\n",
    "median_r2_batch = r2_score(ybatch_train, ybatch_tr_pred), r2_score(ybatch_test, ybatch_te_pred)\r\n",
    "print(median_r2_batch)\r\n",
    "\r\n",
    "median_r2_rcp = r2_score(yrcp_train, yrcp_tr_pred), r2_score(yrcp_test, yrcp_te_pred)\r\n",
    "print(median_r2_rcp)"
   ],
   "outputs": [
    {
     "output_type": "stream",
     "name": "stdout",
     "text": [
      "(0.30061205065929497, 0.2369314265012885)\n",
      "(0.25707156479020377, 0.08964668357850025)\n"
     ]
    }
   ],
   "metadata": {}
  },
  {
   "cell_type": "code",
   "execution_count": 134,
   "source": [
    "#Code task 12#\r\n",
    "#Now calculate the mean absolute error scores using `sklearn`'s `mean_absolute_error` function\r\n",
    "# as we did above for R^2\r\n",
    "# MAE - train, test\r\n",
    "median_mae_batch = mean_absolute_error(ybatch_train, ybatch_tr_pred), mean_absolute_error(ybatch_test, ybatch_te_pred)\r\n",
    "print(median_mae_batch)\r\n",
    "\r\n",
    "median_mae_rcp = mean_absolute_error(yrcp_train, yrcp_tr_pred), mean_absolute_error(yrcp_test, yrcp_te_pred)\r\n",
    "print(median_mae_rcp)"
   ],
   "outputs": [
    {
     "output_type": "stream",
     "name": "stdout",
     "text": [
      "(0.6204214777223807, 0.6787206227504838)\n",
      "(0.6710918182791089, 0.7634597732879359)\n"
     ]
    }
   ],
   "metadata": {}
  },
  {
   "cell_type": "code",
   "execution_count": 135,
   "source": [
    "#Code task 13#\r\n",
    "#And also do the same using `sklearn`'s `mean_squared_error`\r\n",
    "# MSE - train, test\r\n",
    "median_mse_batch = mean_squared_error(ybatch_train, ybatch_tr_pred), mean_squared_error(ybatch_test, ybatch_te_pred)\r\n",
    "print(median_mse_batch)\r\n",
    "\r\n",
    "median_mse_rcp = mean_squared_error(yrcp_train, yrcp_tr_pred), mean_squared_error(yrcp_test, yrcp_te_pred)\r\n",
    "print(median_mse_rcp)"
   ],
   "outputs": [
    {
     "output_type": "stream",
     "name": "stdout",
     "text": [
      "(0.6801660466241934, 0.8114683835252833)\n",
      "(0.7251161750445293, 0.9597322337722605)\n"
     ]
    }
   ],
   "metadata": {}
  },
  {
   "cell_type": "markdown",
   "source": [
    "#### Impute missing values with the mean"
   ],
   "metadata": {}
  },
  {
   "cell_type": "code",
   "execution_count": 136,
   "source": [
    "#Code task 14#\r\n",
    "#As we did for the median above, calculate mean values for imputing missing values\r\n",
    "# These are the values we'll use to fill in any missing values\r\n",
    "Xbatch_defaults_mean = Xbatch_train.mean()\r\n",
    "Xrcp_defaults_mean = Xrcp_train.mean()\r\n",
    "\r\n",
    "Xbatch_defaults_mean, Xrcp_defaults_mean"
   ],
   "outputs": [
    {
     "output_type": "execute_result",
     "data": {
      "text/plain": [
       "(base_malt_pct_log            0.03\n",
       " Boil Kettle_log              0.02\n",
       " Whirlpool_log               -0.01\n",
       " Fermenter_log                0.02\n",
       " Total Hops_log               0.02\n",
       " fermenter_temperature_log   -0.03\n",
       " cu_low_log                  -0.02\n",
       " cu_high_log                 -0.01\n",
       " cu_setpoint_log             -0.01\n",
       " pre_run_dump_volume_log      0.03\n",
       " original_gravity_log         0.02\n",
       " dtype: float64,\n",
       " base_malt_pct_log           -0.04\n",
       " Boil Kettle_log             -0.11\n",
       " Whirlpool_log                0.01\n",
       " Fermenter_log                0.00\n",
       " Total Hops_log              -0.09\n",
       " fermenter_temperature_log   -0.06\n",
       " cu_low_log                   0.03\n",
       " cu_high_log                  0.01\n",
       " cu_setpoint_log             -0.00\n",
       " pre_run_dump_volume_log      0.01\n",
       " original_gravity_log        -0.04\n",
       " dtype: float64)"
      ]
     },
     "metadata": {},
     "execution_count": 136
    }
   ],
   "metadata": {}
  },
  {
   "cell_type": "code",
   "execution_count": 137,
   "source": [
    "Xbatch_tr = Xbatch_train.fillna(Xbatch_defaults_mean)\r\n",
    "Xbatch_te = Xbatch_test.fillna(Xbatch_defaults_mean)\r\n",
    "\r\n",
    "Xrcp_tr = Xrcp_train.fillna(Xrcp_defaults_mean)\r\n",
    "Xrcp_te = Xrcp_test.fillna(Xrcp_defaults_mean)"
   ],
   "outputs": [],
   "metadata": {}
  },
  {
   "cell_type": "code",
   "execution_count": 138,
   "source": [
    "scaler_batch = StandardScaler()\r\n",
    "scaler_batch.fit(Xbatch_tr)\r\n",
    "Xbatch_tr_scaled = scaler_batch.transform(Xbatch_tr)\r\n",
    "Xbatch_te_scaled = scaler_batch.transform(Xbatch_te)\r\n",
    "\r\n",
    "scaler_rcp = StandardScaler()\r\n",
    "scaler_rcp.fit(Xrcp_tr)\r\n",
    "Xrcp_tr_scaled = scaler_rcp.transform(Xrcp_tr)\r\n",
    "Xrcp_te_scaled = scaler_rcp.transform(Xrcp_te)"
   ],
   "outputs": [],
   "metadata": {}
  },
  {
   "cell_type": "code",
   "execution_count": 139,
   "source": [
    "lm_batch = LinearRegression().fit(Xbatch_tr_scaled, ybatch_train)\r\n",
    "\r\n",
    "lm_rcp = LinearRegression().fit(Xrcp_tr_scaled, yrcp_train)"
   ],
   "outputs": [],
   "metadata": {}
  },
  {
   "cell_type": "code",
   "execution_count": 140,
   "source": [
    "ybatch_tr_pred = lm_batch.predict(Xbatch_tr_scaled)\r\n",
    "ybatch_te_pred = lm_batch.predict(Xbatch_te_scaled)\r\n",
    "\r\n",
    "yrcp_tr_pred = lm_rcp.predict(Xrcp_tr_scaled)\r\n",
    "yrcp_te_pred = lm_rcp.predict(Xrcp_te_scaled)"
   ],
   "outputs": [],
   "metadata": {}
  },
  {
   "cell_type": "code",
   "execution_count": 141,
   "source": [
    "mean_r2_batch = r2_score(ybatch_train, ybatch_tr_pred), r2_score(ybatch_test, ybatch_te_pred)\r\n",
    "print(mean_r2_batch)\r\n",
    "\r\n",
    "mean_r2_rcp = r2_score(yrcp_train, yrcp_tr_pred), r2_score(yrcp_test, yrcp_te_pred)\r\n",
    "print(mean_r2_rcp)"
   ],
   "outputs": [
    {
     "output_type": "stream",
     "name": "stdout",
     "text": [
      "(0.29534881081674924, 0.22155475520568169)\n",
      "(0.2619535905063797, 0.06510573402577069)\n"
     ]
    }
   ],
   "metadata": {}
  },
  {
   "cell_type": "code",
   "execution_count": 142,
   "source": [
    "mean_mae_batch = mean_absolute_error(ybatch_train, ybatch_tr_pred), mean_absolute_error(ybatch_test, ybatch_te_pred)\r\n",
    "print(mean_mae_batch)\r\n",
    "\r\n",
    "mean_mae_rcp = mean_absolute_error(yrcp_train, yrcp_tr_pred), mean_absolute_error(yrcp_test, yrcp_te_pred)\r\n",
    "print(mean_mae_rcp)"
   ],
   "outputs": [
    {
     "output_type": "stream",
     "name": "stdout",
     "text": [
      "(0.6252445496498902, 0.6841036798245843)\n",
      "(0.6657255057749036, 0.7771347827452417)\n"
     ]
    }
   ],
   "metadata": {}
  },
  {
   "cell_type": "code",
   "execution_count": 143,
   "source": [
    "mean_mse_batch = mean_squared_error(ybatch_train, ybatch_tr_pred), mean_squared_error(ybatch_test, ybatch_te_pred)\r\n",
    "print(mean_mse_batch)\r\n",
    "\r\n",
    "mean_mse_rcp = mean_squared_error(yrcp_train, yrcp_tr_pred), mean_squared_error(yrcp_test, yrcp_te_pred)\r\n",
    "print(mean_mse_rcp)"
   ],
   "outputs": [
    {
     "output_type": "stream",
     "name": "stdout",
     "text": [
      "(0.6852846321524598, 0.82782036424313)\n",
      "(0.7203511995152474, 0.9856043209149941)\n"
     ]
    }
   ],
   "metadata": {}
  },
  {
   "cell_type": "markdown",
   "source": [
    "#### lazypredict with dropna"
   ],
   "metadata": {}
  },
  {
   "cell_type": "code",
   "execution_count": 144,
   "source": [
    "Xbatch_tr = Xbatch_train_dropna\r\n",
    "Xbatch_te = Xbatch_test_dropna\r\n",
    "\r\n",
    "Xrcp_tr = Xrcp_train_dropna\r\n",
    "Xrcp_te = Xrcp_test_dropna"
   ],
   "outputs": [],
   "metadata": {}
  },
  {
   "cell_type": "code",
   "execution_count": 145,
   "source": [
    "reg_batch_dropna = LazyRegressor(verbose=0, ignore_warnings=False, custom_metric=None)\r\n",
    "models_batch_dropna, predictions_batch_dropna = reg_batch_dropna.fit(Xbatch_tr, Xbatch_te, ybatch_train, ybatch_test)\r\n",
    "\r\n",
    "reg_rcp_dropna = LazyRegressor(verbose=0, ignore_warnings=False, custom_metric=None)\r\n",
    "models_rcp_dropna, predictions_rcp_dropna = reg_rcp_dropna.fit(Xrcp_tr, Xrcp_te, yrcp_train, yrcp_test)"
   ],
   "outputs": [
    {
     "output_type": "stream",
     "name": "stderr",
     "text": [
      " 40%|████      | 17/42 [00:00<00:00, 164.27it/s]"
     ]
    },
    {
     "output_type": "stream",
     "name": "stdout",
     "text": [
      "AdaBoostRegressor model failed to execute\n",
      "Found input variables with inconsistent numbers of samples: [277, 779]\n",
      "BaggingRegressor model failed to execute\n",
      "Found input variables with inconsistent numbers of samples: [277, 779]\n",
      "BayesianRidge model failed to execute\n",
      "Found input variables with inconsistent numbers of samples: [277, 779]\n",
      "DecisionTreeRegressor model failed to execute\n",
      "Number of labels=779 does not match number of samples=277\n",
      "DummyRegressor model failed to execute\n",
      "Found input variables with inconsistent numbers of samples: [277, 779]\n",
      "ElasticNet model failed to execute\n",
      "Found input variables with inconsistent numbers of samples: [277, 779]\n",
      "ElasticNetCV model failed to execute\n",
      "X and y have inconsistent dimensions (277 != 779)\n",
      "ExtraTreeRegressor model failed to execute\n",
      "Number of labels=779 does not match number of samples=277\n",
      "ExtraTreesRegressor model failed to execute\n",
      "Found input variables with inconsistent numbers of samples: [277, 779]\n",
      "GammaRegressor model failed to execute\n",
      "Found input variables with inconsistent numbers of samples: [277, 779]\n",
      "GaussianProcessRegressor model failed to execute\n",
      "Found input variables with inconsistent numbers of samples: [277, 779]\n",
      "GeneralizedLinearRegressor model failed to execute\n",
      "Found input variables with inconsistent numbers of samples: [277, 779]\n",
      "GradientBoostingRegressor model failed to execute\n",
      "Found input variables with inconsistent numbers of samples: [277, 779]\n",
      "HistGradientBoostingRegressor model failed to execute\n",
      "Found input variables with inconsistent numbers of samples: [277, 779]\n",
      "HuberRegressor model failed to execute\n",
      "Found input variables with inconsistent numbers of samples: [277, 779]\n",
      "KNeighborsRegressor model failed to execute\n",
      "Found input variables with inconsistent numbers of samples: [277, 779]\n",
      "KernelRidge model failed to execute\n",
      "Found input variables with inconsistent numbers of samples: [277, 779]\n",
      "Lars model failed to execute\n",
      "Found input variables with inconsistent numbers of samples: [277, 779]\n",
      "LarsCV model failed to execute\n",
      "Found input variables with inconsistent numbers of samples: [277, 779]\n",
      "Lasso model failed to execute\n",
      "Found input variables with inconsistent numbers of samples: [277, 779]\n",
      "LassoCV model failed to execute\n",
      "X and y have inconsistent dimensions (277 != 779)\n",
      "LassoLars model failed to execute\n",
      "Found input variables with inconsistent numbers of samples: [277, 779]\n",
      "LassoLarsCV model failed to execute\n",
      "Found input variables with inconsistent numbers of samples: [277, 779]\n",
      "LassoLarsIC model failed to execute\n",
      "Found input variables with inconsistent numbers of samples: [277, 779]\n",
      "LinearRegression model failed to execute\n",
      "Found input variables with inconsistent numbers of samples: [277, 779]\n",
      "LinearSVR model failed to execute\n",
      "Found input variables with inconsistent numbers of samples: [277, 779]\n",
      "MLPRegressor model failed to execute\n",
      "Found input variables with inconsistent numbers of samples: [277, 779]\n",
      "NuSVR model failed to execute\n",
      "Found input variables with inconsistent numbers of samples: [277, 779]\n",
      "OrthogonalMatchingPursuit model failed to execute\n",
      "Found input variables with inconsistent numbers of samples: [277, 779]\n",
      "OrthogonalMatchingPursuitCV model failed to execute\n",
      "Found input variables with inconsistent numbers of samples: [277, 779]\n",
      "PassiveAggressiveRegressor model failed to execute\n",
      "Found input variables with inconsistent numbers of samples: [277, 779]\n",
      "PoissonRegressor model failed to execute\n",
      "Found input variables with inconsistent numbers of samples: [277, 779]\n"
     ]
    },
    {
     "output_type": "stream",
     "name": "stderr",
     "text": [
      "100%|██████████| 42/42 [00:00<00:00, 166.67it/s]\n",
      " 43%|████▎     | 18/42 [00:00<00:00, 173.08it/s]"
     ]
    },
    {
     "output_type": "stream",
     "name": "stdout",
     "text": [
      "RANSACRegressor model failed to execute\n",
      "Found input variables with inconsistent numbers of samples: [277, 779]\n",
      "RandomForestRegressor model failed to execute\n",
      "Found input variables with inconsistent numbers of samples: [277, 779]\n",
      "Ridge model failed to execute\n",
      "Found input variables with inconsistent numbers of samples: [277, 779]\n",
      "RidgeCV model failed to execute\n",
      "Found input variables with inconsistent numbers of samples: [277, 779]\n",
      "SGDRegressor model failed to execute\n",
      "Found input variables with inconsistent numbers of samples: [277, 779]\n",
      "SVR model failed to execute\n",
      "Found input variables with inconsistent numbers of samples: [277, 779]\n",
      "TransformedTargetRegressor model failed to execute\n",
      "Found input variables with inconsistent numbers of samples: [277, 779]\n",
      "TweedieRegressor model failed to execute\n",
      "Found input variables with inconsistent numbers of samples: [277, 779]\n",
      "XGBRegressor model failed to execute\n",
      "[19:01:41] C:\\Users\\Administrator\\workspace\\xgboost-win64_release_1.1.0\\src\\data\\data.cc:373: Check failed: labels_.Size() == num_row_ (779 vs. 277) : Size of labels must equal to number of rows.\n",
      "LGBMRegressor model failed to execute\n",
      "Found input variables with inconsistent numbers of samples: [277, 779]\n",
      "AdaBoostRegressor model failed to execute\n",
      "Found input variables with inconsistent numbers of samples: [49, 188]\n",
      "BaggingRegressor model failed to execute\n",
      "Found input variables with inconsistent numbers of samples: [49, 188]\n",
      "BayesianRidge model failed to execute\n",
      "Found input variables with inconsistent numbers of samples: [49, 188]\n",
      "DecisionTreeRegressor model failed to execute\n",
      "Number of labels=188 does not match number of samples=49\n",
      "DummyRegressor model failed to execute\n",
      "Found input variables with inconsistent numbers of samples: [49, 188]\n",
      "ElasticNet model failed to execute\n",
      "Found input variables with inconsistent numbers of samples: [49, 188]\n",
      "ElasticNetCV model failed to execute\n",
      "X and y have inconsistent dimensions (49 != 188)\n",
      "ExtraTreeRegressor model failed to execute\n",
      "Number of labels=188 does not match number of samples=49\n",
      "ExtraTreesRegressor model failed to execute\n",
      "Found input variables with inconsistent numbers of samples: [49, 188]\n",
      "GammaRegressor model failed to execute\n",
      "Found input variables with inconsistent numbers of samples: [49, 188]\n",
      "GaussianProcessRegressor model failed to execute\n",
      "Found input variables with inconsistent numbers of samples: [49, 188]\n",
      "GeneralizedLinearRegressor model failed to execute\n",
      "Found input variables with inconsistent numbers of samples: [49, 188]\n",
      "GradientBoostingRegressor model failed to execute\n",
      "Found input variables with inconsistent numbers of samples: [49, 188]\n",
      "HistGradientBoostingRegressor model failed to execute\n",
      "Found input variables with inconsistent numbers of samples: [49, 188]\n",
      "HuberRegressor model failed to execute\n",
      "Found input variables with inconsistent numbers of samples: [49, 188]\n",
      "KNeighborsRegressor model failed to execute\n",
      "Found input variables with inconsistent numbers of samples: [49, 188]\n",
      "KernelRidge model failed to execute\n",
      "Found input variables with inconsistent numbers of samples: [49, 188]\n",
      "Lars model failed to execute\n",
      "Found input variables with inconsistent numbers of samples: [49, 188]\n",
      "LarsCV model failed to execute\n",
      "Found input variables with inconsistent numbers of samples: [49, 188]\n",
      "Lasso model failed to execute\n",
      "Found input variables with inconsistent numbers of samples: [49, 188]\n"
     ]
    },
    {
     "output_type": "stream",
     "name": "stderr",
     "text": [
      "100%|██████████| 42/42 [00:00<00:00, 173.53it/s]"
     ]
    },
    {
     "output_type": "stream",
     "name": "stdout",
     "text": [
      "LassoCV model failed to execute\n",
      "X and y have inconsistent dimensions (49 != 188)\n",
      "LassoLars model failed to execute\n",
      "Found input variables with inconsistent numbers of samples: [49, 188]\n",
      "LassoLarsCV model failed to execute\n",
      "Found input variables with inconsistent numbers of samples: [49, 188]\n",
      "LassoLarsIC model failed to execute\n",
      "Found input variables with inconsistent numbers of samples: [49, 188]\n",
      "LinearRegression model failed to execute\n",
      "Found input variables with inconsistent numbers of samples: [49, 188]\n",
      "LinearSVR model failed to execute\n",
      "Found input variables with inconsistent numbers of samples: [49, 188]\n",
      "MLPRegressor model failed to execute\n",
      "Found input variables with inconsistent numbers of samples: [49, 188]\n",
      "NuSVR model failed to execute\n",
      "Found input variables with inconsistent numbers of samples: [49, 188]\n",
      "OrthogonalMatchingPursuit model failed to execute\n",
      "Found input variables with inconsistent numbers of samples: [49, 188]\n",
      "OrthogonalMatchingPursuitCV model failed to execute\n",
      "Found input variables with inconsistent numbers of samples: [49, 188]\n",
      "PassiveAggressiveRegressor model failed to execute\n",
      "Found input variables with inconsistent numbers of samples: [49, 188]\n",
      "PoissonRegressor model failed to execute\n",
      "Found input variables with inconsistent numbers of samples: [49, 188]\n",
      "RANSACRegressor model failed to execute\n",
      "Found input variables with inconsistent numbers of samples: [49, 188]\n",
      "RandomForestRegressor model failed to execute\n",
      "Found input variables with inconsistent numbers of samples: [49, 188]\n",
      "Ridge model failed to execute\n",
      "Found input variables with inconsistent numbers of samples: [49, 188]\n",
      "RidgeCV model failed to execute\n",
      "Found input variables with inconsistent numbers of samples: [49, 188]\n",
      "SGDRegressor model failed to execute\n",
      "Found input variables with inconsistent numbers of samples: [49, 188]\n",
      "SVR model failed to execute\n",
      "Found input variables with inconsistent numbers of samples: [49, 188]\n",
      "TransformedTargetRegressor model failed to execute\n",
      "Found input variables with inconsistent numbers of samples: [49, 188]\n",
      "TweedieRegressor model failed to execute\n",
      "Found input variables with inconsistent numbers of samples: [49, 188]\n",
      "XGBRegressor model failed to execute\n",
      "[19:01:41] C:\\Users\\Administrator\\workspace\\xgboost-win64_release_1.1.0\\src\\data\\data.cc:373: Check failed: labels_.Size() == num_row_ (188 vs. 49) : Size of labels must equal to number of rows.\n",
      "LGBMRegressor model failed to execute\n",
      "Found input variables with inconsistent numbers of samples: [49, 188]\n"
     ]
    },
    {
     "output_type": "stream",
     "name": "stderr",
     "text": [
      "\n"
     ]
    }
   ],
   "metadata": {}
  },
  {
   "cell_type": "code",
   "execution_count": 146,
   "source": [
    "print(models_batch_dropna)"
   ],
   "outputs": [
    {
     "output_type": "stream",
     "name": "stdout",
     "text": [
      "Empty DataFrame\n",
      "Columns: [Adjusted R-Squared, R-Squared, RMSE, Time Taken]\n",
      "Index: []\n"
     ]
    }
   ],
   "metadata": {}
  },
  {
   "cell_type": "markdown",
   "source": [
    "### Not really sure what's going on here, but given the number of rows to begin with, it's probably a good idea to impute rather than drop anyway."
   ],
   "metadata": {}
  },
  {
   "cell_type": "markdown",
   "source": [
    "#### lazypredict with median impute"
   ],
   "metadata": {}
  },
  {
   "cell_type": "code",
   "execution_count": 232,
   "source": [
    "Xbatch_tr = Xbatch_train.fillna(Xbatch_defaults_median)\r\n",
    "Xbatch_te = Xbatch_test.fillna(Xbatch_defaults_median)\r\n",
    "\r\n",
    "Xrcp_tr = Xrcp_train.fillna(Xrcp_defaults_median)\r\n",
    "Xrcp_te = Xrcp_test.fillna(Xrcp_defaults_median)"
   ],
   "outputs": [],
   "metadata": {}
  },
  {
   "cell_type": "code",
   "execution_count": 148,
   "source": [
    "reg_batch = LazyRegressor(verbose=0, ignore_warnings=False, custom_metric=None)\r\n",
    "models_batch, predictions_batch = reg_batch.fit(Xbatch_tr, Xbatch_te, ybatch_train, ybatch_test)\r\n",
    "\r\n",
    "reg_rcp = LazyRegressor(verbose=0, ignore_warnings=False, custom_metric=None)\r\n",
    "models_rcp, predictions_rcp = reg_rcp.fit(Xrcp_tr, Xrcp_te, yrcp_train, yrcp_test)"
   ],
   "outputs": [
    {
     "output_type": "stream",
     "name": "stderr",
     "text": [
      " 31%|███       | 13/42 [00:00<00:01, 19.06it/s]"
     ]
    },
    {
     "output_type": "stream",
     "name": "stdout",
     "text": [
      "GammaRegressor model failed to execute\n",
      "Some value(s) of y are out of the valid range for family GammaDistribution\n"
     ]
    },
    {
     "output_type": "stream",
     "name": "stderr",
     "text": [
      " 79%|███████▊  | 33/42 [00:02<00:00, 13.52it/s]"
     ]
    },
    {
     "output_type": "stream",
     "name": "stdout",
     "text": [
      "PoissonRegressor model failed to execute\n",
      "Some value(s) of y are out of the valid range for family PoissonDistribution\n"
     ]
    },
    {
     "output_type": "stream",
     "name": "stderr",
     "text": [
      "100%|██████████| 42/42 [00:02<00:00, 14.07it/s]\n",
      " 29%|██▊       | 12/42 [00:00<00:00, 32.32it/s]"
     ]
    },
    {
     "output_type": "stream",
     "name": "stdout",
     "text": [
      "GammaRegressor model failed to execute\n",
      "Some value(s) of y are out of the valid range for family GammaDistribution\n"
     ]
    },
    {
     "output_type": "stream",
     "name": "stderr",
     "text": [
      " 81%|████████  | 34/42 [00:01<00:00, 25.29it/s]"
     ]
    },
    {
     "output_type": "stream",
     "name": "stdout",
     "text": [
      "PoissonRegressor model failed to execute\n",
      "Some value(s) of y are out of the valid range for family PoissonDistribution\n"
     ]
    },
    {
     "output_type": "stream",
     "name": "stderr",
     "text": [
      "100%|██████████| 42/42 [00:01<00:00, 28.14it/s]\n"
     ]
    }
   ],
   "metadata": {}
  },
  {
   "cell_type": "code",
   "execution_count": 149,
   "source": [
    "print(models_batch)"
   ],
   "outputs": [
    {
     "output_type": "stream",
     "name": "stdout",
     "text": [
      "                               Adjusted R-Squared  R-Squared  RMSE  Time Taken\n",
      "Model                                                                         \n",
      "ExtraTreesRegressor                          0.57       0.58  0.67        0.22\n",
      "RandomForestRegressor                        0.55       0.57  0.68        0.32\n",
      "XGBRegressor                                 0.52       0.54  0.70        0.06\n",
      "BaggingRegressor                             0.51       0.52  0.71        0.05\n",
      "HistGradientBoostingRegressor                0.48       0.50  0.73        0.62\n",
      "GradientBoostingRegressor                    0.48       0.50  0.73        0.11\n",
      "LGBMRegressor                                0.46       0.48  0.74        0.05\n",
      "MLPRegressor                                 0.38       0.40  0.80        0.86\n",
      "KNeighborsRegressor                          0.38       0.40  0.80        0.02\n",
      "NuSVR                                        0.36       0.38  0.81        0.04\n",
      "SVR                                          0.36       0.38  0.81        0.04\n",
      "AdaBoostRegressor                            0.34       0.37  0.82        0.07\n",
      "DecisionTreeRegressor                        0.23       0.25  0.89        0.01\n",
      "LassoLarsCV                                  0.21       0.24  0.90        0.02\n",
      "ElasticNetCV                                 0.21       0.24  0.90        0.06\n",
      "LassoCV                                      0.21       0.24  0.90        0.05\n",
      "OrthogonalMatchingPursuitCV                  0.21       0.24  0.90        0.01\n",
      "BayesianRidge                                0.21       0.24  0.90        0.01\n",
      "LarsCV                                       0.21       0.24  0.90        0.03\n",
      "KernelRidge                                  0.21       0.24  0.90        0.03\n",
      "LassoLarsIC                                  0.21       0.24  0.90        0.01\n",
      "RidgeCV                                      0.21       0.24  0.90        0.01\n",
      "Ridge                                        0.21       0.24  0.90        0.01\n",
      "LinearRegression                             0.21       0.24  0.90        0.01\n",
      "TransformedTargetRegressor                   0.21       0.24  0.90        0.01\n",
      "Lars                                         0.21       0.24  0.90        0.01\n",
      "SGDRegressor                                 0.21       0.23  0.90        0.01\n",
      "HuberRegressor                               0.18       0.21  0.92        0.02\n",
      "ExtraTreeRegressor                           0.18       0.21  0.92        0.01\n",
      "LinearSVR                                    0.17       0.20  0.92        0.01\n",
      "TweedieRegressor                             0.17       0.20  0.92        0.01\n",
      "GeneralizedLinearRegressor                   0.17       0.20  0.92        0.01\n",
      "OrthogonalMatchingPursuit                    0.04       0.07  0.99        0.01\n",
      "ElasticNet                                  -0.04      -0.00  1.03        0.01\n",
      "DummyRegressor                              -0.04      -0.00  1.03        0.01\n",
      "Lasso                                       -0.04      -0.00  1.03        0.01\n",
      "LassoLars                                   -0.04      -0.00  1.03        0.01\n",
      "PassiveAggressiveRegressor                  -0.60      -0.55  1.28        0.01\n",
      "RANSACRegressor                             -1.80      -1.71  1.70        0.05\n",
      "GaussianProcessRegressor                  -133.64    -129.19 11.77        0.06\n"
     ]
    }
   ],
   "metadata": {}
  },
  {
   "cell_type": "code",
   "execution_count": 150,
   "source": [
    "print(models_rcp)"
   ],
   "outputs": [
    {
     "output_type": "stream",
     "name": "stdout",
     "text": [
      "                               Adjusted R-Squared  R-Squared  RMSE  Time Taken\n",
      "Model                                                                         \n",
      "ExtraTreesRegressor                          0.06       0.19  0.93        0.13\n",
      "SVR                                          0.03       0.16  0.94        0.01\n",
      "LGBMRegressor                                0.02       0.15  0.94        0.03\n",
      "KNeighborsRegressor                          0.01       0.15  0.95        0.01\n",
      "NuSVR                                        0.01       0.14  0.95        0.01\n",
      "AdaBoostRegressor                           -0.02       0.12  0.96        0.08\n",
      "BayesianRidge                               -0.04       0.10  0.97        0.01\n",
      "RandomForestRegressor                       -0.05       0.10  0.98        0.15\n",
      "ElasticNetCV                                -0.05       0.10  0.98        0.06\n",
      "SGDRegressor                                -0.05       0.10  0.98        0.01\n",
      "TweedieRegressor                            -0.05       0.10  0.98        0.01\n",
      "GeneralizedLinearRegressor                  -0.05       0.10  0.98        0.01\n",
      "RidgeCV                                     -0.05       0.10  0.98        0.01\n",
      "HistGradientBoostingRegressor               -0.05       0.09  0.98        0.27\n",
      "LassoCV                                     -0.05       0.09  0.98        0.06\n",
      "LassoLarsCV                                 -0.05       0.09  0.98        0.02\n",
      "LarsCV                                      -0.05       0.09  0.98        0.02\n",
      "KernelRidge                                 -0.05       0.09  0.98        0.01\n",
      "Ridge                                       -0.06       0.09  0.98        0.01\n",
      "TransformedTargetRegressor                  -0.06       0.09  0.98        0.01\n",
      "LinearRegression                            -0.06       0.09  0.98        0.01\n",
      "GradientBoostingRegressor                   -0.06       0.09  0.98        0.06\n",
      "OrthogonalMatchingPursuitCV                 -0.06       0.08  0.98        0.02\n",
      "LassoLarsIC                                 -0.07       0.08  0.98        0.01\n",
      "HuberRegressor                              -0.08       0.07  0.99        0.02\n",
      "OrthogonalMatchingPursuit                   -0.08       0.07  0.99        0.01\n",
      "MLPRegressor                                -0.08       0.07  0.99        0.22\n",
      "LinearSVR                                   -0.10       0.05  1.00        0.01\n",
      "LassoLars                                   -0.16      -0.00  1.03        0.01\n",
      "DummyRegressor                              -0.16      -0.00  1.03        0.01\n",
      "ElasticNet                                  -0.16      -0.00  1.03        0.01\n",
      "Lasso                                       -0.16      -0.00  1.03        0.01\n",
      "Lars                                        -0.16      -0.00  1.03        0.01\n",
      "BaggingRegressor                            -0.20      -0.04  1.05        0.03\n",
      "GaussianProcessRegressor                    -0.27      -0.09  1.07        0.01\n",
      "XGBRegressor                                -0.28      -0.10  1.08        0.05\n",
      "DecisionTreeRegressor                       -0.86      -0.61  1.30        0.01\n",
      "RANSACRegressor                             -0.92      -0.66  1.32        0.05\n",
      "ExtraTreeRegressor                          -1.03      -0.75  1.36        0.01\n",
      "PassiveAggressiveRegressor                  -1.69      -1.32  1.57        0.01\n"
     ]
    }
   ],
   "metadata": {}
  },
  {
   "cell_type": "markdown",
   "source": [
    "### Just using the recipe data set is worthless. Looks like the batch data set is going to be the best bet."
   ],
   "metadata": {}
  },
  {
   "cell_type": "markdown",
   "source": [
    "## Looking at the ExtraTreesRegressor()"
   ],
   "metadata": {}
  },
  {
   "cell_type": "code",
   "execution_count": 245,
   "source": [
    "pipe = make_pipeline(\r\n",
    "    SimpleImputer(strategy='median'), \r\n",
    "    StandardScaler(), \r\n",
    "    ExtraTreesRegressor()\r\n",
    ")"
   ],
   "outputs": [],
   "metadata": {}
  },
  {
   "cell_type": "code",
   "execution_count": 249,
   "source": [
    "#Call the pipe's `fit()` method with `X_train` and `y_train` as arguments\r\n",
    "pipe.fit(Xbatch_tr, ybatch_train)"
   ],
   "outputs": [
    {
     "output_type": "execute_result",
     "data": {
      "text/plain": [
       "Pipeline(steps=[('simpleimputer', SimpleImputer(strategy='median')),\n",
       "                ('standardscaler', StandardScaler()),\n",
       "                ('extratreesregressor', ExtraTreesRegressor())])"
      ]
     },
     "metadata": {},
     "execution_count": 249
    }
   ],
   "metadata": {}
  },
  {
   "cell_type": "code",
   "execution_count": 250,
   "source": [
    "y_tr_pred = pipe.predict(Xbatch_tr)\r\n",
    "y_te_pred = pipe.predict(Xbatch_te)"
   ],
   "outputs": [],
   "metadata": {}
  },
  {
   "cell_type": "code",
   "execution_count": 254,
   "source": [
    "#R-squared\r\n",
    "r2_score(ybatch_train, y_tr_pred), r2_score(ybatch_test, y_te_pred)"
   ],
   "outputs": [
    {
     "output_type": "execute_result",
     "data": {
      "text/plain": [
       "(0.9997976796178256, 0.5821439144892446)"
      ]
     },
     "metadata": {},
     "execution_count": 254
    }
   ],
   "metadata": {}
  },
  {
   "cell_type": "code",
   "execution_count": 255,
   "source": [
    "#MAE\r\n",
    "mean_absolute_error(ybatch_train, y_tr_pred), mean_absolute_error(ybatch_test, y_te_pred)"
   ],
   "outputs": [
    {
     "output_type": "execute_result",
     "data": {
      "text/plain": [
       "(0.0007107461061677659, 0.3895320327512818)"
      ]
     },
     "metadata": {},
     "execution_count": 255
    }
   ],
   "metadata": {}
  },
  {
   "cell_type": "code",
   "execution_count": 256,
   "source": [
    "#MSE\r\n",
    "mean_squared_error(ybatch_train, y_tr_pred), mean_squared_error(ybatch_test, y_te_pred)"
   ],
   "outputs": [
    {
     "output_type": "execute_result",
     "data": {
      "text/plain": [
       "(0.00019675983068449137, 0.44435980465153807)"
      ]
     },
     "metadata": {},
     "execution_count": 256
    }
   ],
   "metadata": {}
  },
  {
   "cell_type": "markdown",
   "source": [
    "## Refining The ExtraTreesRegressor Model"
   ],
   "metadata": {}
  },
  {
   "cell_type": "code",
   "execution_count": 257,
   "source": [
    "#Add `SelectKBest` as a step in the pipeline between `StandardScaler()` and `LinearRegression()`\r\n",
    "pipe = make_pipeline(\r\n",
    "    SimpleImputer(strategy='median'), \r\n",
    "    StandardScaler(),\r\n",
    "    SelectKBest(score_func=f_regression, k=8),\r\n",
    "    ExtraTreesRegressor()\r\n",
    ")"
   ],
   "outputs": [],
   "metadata": {}
  },
  {
   "cell_type": "code",
   "execution_count": 258,
   "source": [
    "pipe.fit(Xbatch_tr, ybatch_train)"
   ],
   "outputs": [
    {
     "output_type": "execute_result",
     "data": {
      "text/plain": [
       "Pipeline(steps=[('simpleimputer', SimpleImputer(strategy='median')),\n",
       "                ('standardscaler', StandardScaler()),\n",
       "                ('selectkbest',\n",
       "                 SelectKBest(k=8,\n",
       "                             score_func=<function f_regression at 0x000001A43E73FEE0>)),\n",
       "                ('extratreesregressor', ExtraTreesRegressor())])"
      ]
     },
     "metadata": {},
     "execution_count": 258
    }
   ],
   "metadata": {}
  },
  {
   "cell_type": "code",
   "execution_count": 259,
   "source": [
    "y_tr_pred = pipe.predict(Xbatch_tr)\r\n",
    "y_te_pred = pipe.predict(Xbatch_te)"
   ],
   "outputs": [],
   "metadata": {}
  },
  {
   "cell_type": "code",
   "execution_count": 260,
   "source": [
    "r2_score(ybatch_train, y_tr_pred), r2_score(ybatch_test, y_te_pred)"
   ],
   "outputs": [
    {
     "output_type": "execute_result",
     "data": {
      "text/plain": [
       "(0.9987399710857119, 0.5696324719639065)"
      ]
     },
     "metadata": {},
     "execution_count": 260
    }
   ],
   "metadata": {}
  },
  {
   "cell_type": "code",
   "execution_count": 261,
   "source": [
    "mean_absolute_error(ybatch_train, y_tr_pred), mean_absolute_error(ybatch_test, y_te_pred)"
   ],
   "outputs": [
    {
     "output_type": "execute_result",
     "data": {
      "text/plain": [
       "(0.003604079140225948, 0.3832179098672706)"
      ]
     },
     "metadata": {},
     "execution_count": 261
    }
   ],
   "metadata": {}
  },
  {
   "cell_type": "markdown",
   "source": [
    "## Assessing performance using cross-validation"
   ],
   "metadata": {}
  },
  {
   "cell_type": "code",
   "execution_count": 262,
   "source": [
    "cv_results = cross_validate(pipe, Xbatch_tr, ybatch_train, cv=5)"
   ],
   "outputs": [],
   "metadata": {}
  },
  {
   "cell_type": "code",
   "execution_count": 263,
   "source": [
    "cv_scores = cv_results['test_score']\r\n",
    "cv_scores"
   ],
   "outputs": [
    {
     "output_type": "execute_result",
     "data": {
      "text/plain": [
       "array([0.5207716 , 0.51078303, 0.49468659, 0.21499205, 0.26565603])"
      ]
     },
     "metadata": {},
     "execution_count": 263
    }
   ],
   "metadata": {}
  },
  {
   "cell_type": "code",
   "execution_count": 264,
   "source": [
    "np.mean(cv_scores), np.std(cv_scores)"
   ],
   "outputs": [
    {
     "output_type": "execute_result",
     "data": {
      "text/plain": [
       "(0.401377859641613, 0.13273353758520948)"
      ]
     },
     "metadata": {},
     "execution_count": 264
    }
   ],
   "metadata": {}
  },
  {
   "cell_type": "code",
   "execution_count": 265,
   "source": [
    "np.round((np.mean(cv_scores) - 2 * np.std(cv_scores), np.mean(cv_scores) + 2 * np.std(cv_scores)), 2)"
   ],
   "outputs": [
    {
     "output_type": "execute_result",
     "data": {
      "text/plain": [
       "array([0.14, 0.67])"
      ]
     },
     "metadata": {},
     "execution_count": 265
    }
   ],
   "metadata": {}
  },
  {
   "cell_type": "markdown",
   "source": [
    "## Hyperparameter search using GridSearchCV (with Extra Trees Regressor)"
   ],
   "metadata": {}
  },
  {
   "cell_type": "code",
   "execution_count": 266,
   "source": [
    "#Code task 18#\r\n",
    "#Call `pipe`'s `get_params()` method to get a dict of available parameters and print their names\r\n",
    "#using dict's `keys()` method\r\n",
    "pipe.get_params().keys()"
   ],
   "outputs": [
    {
     "output_type": "execute_result",
     "data": {
      "text/plain": [
       "dict_keys(['memory', 'steps', 'verbose', 'simpleimputer', 'standardscaler', 'selectkbest', 'extratreesregressor', 'simpleimputer__add_indicator', 'simpleimputer__copy', 'simpleimputer__fill_value', 'simpleimputer__missing_values', 'simpleimputer__strategy', 'simpleimputer__verbose', 'standardscaler__copy', 'standardscaler__with_mean', 'standardscaler__with_std', 'selectkbest__k', 'selectkbest__score_func', 'extratreesregressor__bootstrap', 'extratreesregressor__ccp_alpha', 'extratreesregressor__criterion', 'extratreesregressor__max_depth', 'extratreesregressor__max_features', 'extratreesregressor__max_leaf_nodes', 'extratreesregressor__max_samples', 'extratreesregressor__min_impurity_decrease', 'extratreesregressor__min_impurity_split', 'extratreesregressor__min_samples_leaf', 'extratreesregressor__min_samples_split', 'extratreesregressor__min_weight_fraction_leaf', 'extratreesregressor__n_estimators', 'extratreesregressor__n_jobs', 'extratreesregressor__oob_score', 'extratreesregressor__random_state', 'extratreesregressor__verbose', 'extratreesregressor__warm_start'])"
      ]
     },
     "metadata": {},
     "execution_count": 266
    }
   ],
   "metadata": {}
  },
  {
   "cell_type": "code",
   "execution_count": 267,
   "source": [
    "k = [k+1 for k in range(len(Xbatch_train.columns))]\r\n",
    "grid_params = {'selectkbest__k': k}"
   ],
   "outputs": [],
   "metadata": {}
  },
  {
   "cell_type": "code",
   "execution_count": 268,
   "source": [
    "etr_grid_cv = GridSearchCV(pipe, param_grid=grid_params, cv=5, n_jobs=-1)"
   ],
   "outputs": [],
   "metadata": {}
  },
  {
   "cell_type": "code",
   "execution_count": 269,
   "source": [
    "etr_grid_cv.fit(Xbatch_train, ybatch_train)"
   ],
   "outputs": [
    {
     "output_type": "execute_result",
     "data": {
      "text/plain": [
       "GridSearchCV(cv=5,\n",
       "             estimator=Pipeline(steps=[('simpleimputer',\n",
       "                                        SimpleImputer(strategy='median')),\n",
       "                                       ('standardscaler', StandardScaler()),\n",
       "                                       ('selectkbest',\n",
       "                                        SelectKBest(k=8,\n",
       "                                                    score_func=<function f_regression at 0x000001A43E73FEE0>)),\n",
       "                                       ('extratreesregressor',\n",
       "                                        ExtraTreesRegressor())]),\n",
       "             n_jobs=-1,\n",
       "             param_grid={'selectkbest__k': [1, 2, 3, 4, 5, 6, 7, 8, 9, 10, 11]})"
      ]
     },
     "metadata": {},
     "execution_count": 269
    }
   ],
   "metadata": {}
  },
  {
   "cell_type": "code",
   "execution_count": 270,
   "source": [
    "score_mean = etr_grid_cv.cv_results_['mean_test_score']\r\n",
    "score_std = etr_grid_cv.cv_results_['std_test_score']\r\n",
    "cv_k = [k for k in etr_grid_cv.cv_results_['param_selectkbest__k']]"
   ],
   "outputs": [],
   "metadata": {}
  },
  {
   "cell_type": "code",
   "execution_count": 271,
   "source": [
    "#Code task 19#\r\n",
    "#Print the `best_params_` attribute of `lr_grid_cv`\r\n",
    "etr_grid_cv.best_params_"
   ],
   "outputs": [
    {
     "output_type": "execute_result",
     "data": {
      "text/plain": [
       "{'selectkbest__k': 11}"
      ]
     },
     "metadata": {},
     "execution_count": 271
    }
   ],
   "metadata": {}
  },
  {
   "cell_type": "code",
   "execution_count": 272,
   "source": [
    "#Code task 20#\r\n",
    "#Assign the value of k from the above dict of `best_params_` and assign it to `best_k`\r\n",
    "best_k = etr_grid_cv.best_params_['selectkbest__k']\r\n",
    "plt.subplots(figsize=(10, 5))\r\n",
    "plt.errorbar(cv_k, score_mean, yerr=score_std)\r\n",
    "plt.axvline(x=best_k, c='r', ls='--', alpha=.5)\r\n",
    "plt.xlabel('k')\r\n",
    "plt.ylabel('CV score (r-squared)')\r\n",
    "plt.title('Pipeline mean CV score (error bars +/- 1sd)');"
   ],
   "outputs": [
    {
     "output_type": "display_data",
     "data": {
      "image/png": "[encoded data removed]",
      "text/plain": [
       "<Figure size 720x360 with 1 Axes>"
      ]
     },
     "metadata": {
      "needs_background": "light"
     }
    }
   ],
   "metadata": {}
  },
  {
   "cell_type": "markdown",
   "source": [
    "## Random Forest Model"
   ],
   "metadata": {}
  },
  {
   "cell_type": "code",
   "execution_count": 273,
   "source": [
    "#Code task 22#\r\n",
    "#Define a pipeline comprising the steps:\r\n",
    "#SimpleImputer() with a strategy of 'median'\r\n",
    "#StandardScaler(),\r\n",
    "#and then RandomForestRegressor() with a random state of 47\r\n",
    "RF_pipe = make_pipeline(\r\n",
    "    SimpleImputer(strategy='median'),\r\n",
    "    StandardScaler(),\r\n",
    "    RandomForestRegressor(random_state=47)\r\n",
    ")"
   ],
   "outputs": [],
   "metadata": {}
  },
  {
   "cell_type": "markdown",
   "source": [
    "### Fit and assess performance using cross-validation"
   ],
   "metadata": {}
  },
  {
   "cell_type": "code",
   "execution_count": 274,
   "source": [
    "#Code task 23#\r\n",
    "#Call `cross_validate` to estimate the pipeline's performance.\r\n",
    "#Pass it the random forest pipe object, `X_train` and `y_train`,\r\n",
    "#and get it to use 5-fold cross-validation\r\n",
    "rf_default_cv_results = cross_validate(RF_pipe, Xbatch_train, ybatch_train, cv=5)"
   ],
   "outputs": [],
   "metadata": {}
  },
  {
   "cell_type": "code",
   "execution_count": 275,
   "source": [
    "rf_cv_scores = rf_default_cv_results['test_score']\r\n",
    "rf_cv_scores"
   ],
   "outputs": [
    {
     "output_type": "execute_result",
     "data": {
      "text/plain": [
       "array([0.47776651, 0.50970736, 0.56597616, 0.32303782, 0.39356487])"
      ]
     },
     "metadata": {},
     "execution_count": 275
    }
   ],
   "metadata": {}
  },
  {
   "cell_type": "code",
   "execution_count": 276,
   "source": [
    "np.mean(rf_cv_scores), np.std(rf_cv_scores)"
   ],
   "outputs": [
    {
     "output_type": "execute_result",
     "data": {
      "text/plain": [
       "(0.4540105445883751, 0.08603524187533089)"
      ]
     },
     "metadata": {},
     "execution_count": 276
    }
   ],
   "metadata": {}
  },
  {
   "cell_type": "markdown",
   "source": [
    "### Hyperparameter search using GridSearchCV"
   ],
   "metadata": {}
  },
  {
   "cell_type": "code",
   "execution_count": 277,
   "source": [
    "n_est = [int(n) for n in np.logspace(start=1, stop=3, num=20)]\r\n",
    "grid_params = {\r\n",
    "        'randomforestregressor__n_estimators': n_est,\r\n",
    "        'standardscaler': [StandardScaler(), None],\r\n",
    "        'simpleimputer__strategy': ['mean', 'median']\r\n",
    "}\r\n",
    "grid_params"
   ],
   "outputs": [
    {
     "output_type": "execute_result",
     "data": {
      "text/plain": [
       "{'randomforestregressor__n_estimators': [10,\n",
       "  12,\n",
       "  16,\n",
       "  20,\n",
       "  26,\n",
       "  33,\n",
       "  42,\n",
       "  54,\n",
       "  69,\n",
       "  88,\n",
       "  112,\n",
       "  143,\n",
       "  183,\n",
       "  233,\n",
       "  297,\n",
       "  379,\n",
       "  483,\n",
       "  615,\n",
       "  784,\n",
       "  1000],\n",
       " 'standardscaler': [StandardScaler(), None],\n",
       " 'simpleimputer__strategy': ['mean', 'median']}"
      ]
     },
     "metadata": {},
     "execution_count": 277
    }
   ],
   "metadata": {}
  },
  {
   "cell_type": "code",
   "execution_count": 278,
   "source": [
    "#Call `GridSearchCV` with the random forest pipeline\r\n",
    "rf_grid_cv = GridSearchCV(RF_pipe, param_grid=grid_params, cv=5, n_jobs=-1)"
   ],
   "outputs": [],
   "metadata": {}
  },
  {
   "cell_type": "code",
   "execution_count": 279,
   "source": [
    "#Code task 25#\r\n",
    "#Now call the `GridSearchCV`'s `fit()` method with `X_train` and `y_train` as arguments\r\n",
    "#to actually start the grid search. This may take a minute or two.\r\n",
    "rf_grid_cv.fit(Xbatch_train, ybatch_train)"
   ],
   "outputs": [
    {
     "output_type": "execute_result",
     "data": {
      "text/plain": [
       "GridSearchCV(cv=5,\n",
       "             estimator=Pipeline(steps=[('simpleimputer',\n",
       "                                        SimpleImputer(strategy='median')),\n",
       "                                       ('standardscaler', StandardScaler()),\n",
       "                                       ('randomforestregressor',\n",
       "                                        RandomForestRegressor(random_state=47))]),\n",
       "             n_jobs=-1,\n",
       "             param_grid={'randomforestregressor__n_estimators': [10, 12, 16, 20,\n",
       "                                                                 26, 33, 42, 54,\n",
       "                                                                 69, 88, 112,\n",
       "                                                                 143, 183, 233,\n",
       "                                                                 297, 379, 483,\n",
       "                                                                 615, 784,\n",
       "                                                                 1000],\n",
       "                         'simpleimputer__strategy': ['mean', 'median'],\n",
       "                         'standardscaler': [StandardScaler(), None]})"
      ]
     },
     "metadata": {},
     "execution_count": 279
    }
   ],
   "metadata": {}
  },
  {
   "cell_type": "code",
   "execution_count": 280,
   "source": [
    "#Code task 26#\r\n",
    "#Print the best params (`best_params_` attribute) from the grid search\r\n",
    "rf_grid_cv.best_params_"
   ],
   "outputs": [
    {
     "output_type": "execute_result",
     "data": {
      "text/plain": [
       "{'randomforestregressor__n_estimators': 26,\n",
       " 'simpleimputer__strategy': 'median',\n",
       " 'standardscaler': StandardScaler()}"
      ]
     },
     "metadata": {},
     "execution_count": 280
    }
   ],
   "metadata": {}
  },
  {
   "cell_type": "code",
   "execution_count": 281,
   "source": [
    "rf_best_cv_results = cross_validate(rf_grid_cv.best_estimator_, Xbatch_train, ybatch_train, cv=5)\r\n",
    "rf_best_scores = rf_best_cv_results['test_score']\r\n",
    "rf_best_scores"
   ],
   "outputs": [
    {
     "output_type": "execute_result",
     "data": {
      "text/plain": [
       "array([0.48473903, 0.48466818, 0.5664419 , 0.34070806, 0.44525695])"
      ]
     },
     "metadata": {},
     "execution_count": 281
    }
   ],
   "metadata": {}
  },
  {
   "cell_type": "code",
   "execution_count": 282,
   "source": [
    "np.mean(rf_best_scores), np.std(rf_best_scores)"
   ],
   "outputs": [
    {
     "output_type": "execute_result",
     "data": {
      "text/plain": [
       "(0.4643628237991443, 0.07335280301159966)"
      ]
     },
     "metadata": {},
     "execution_count": 282
    }
   ],
   "metadata": {}
  },
  {
   "cell_type": "code",
   "execution_count": 283,
   "source": [
    "#Plot a barplot of the random forest's feature importances\r\n",
    "plt.subplots(figsize=(10, 5))\r\n",
    "imps = rf_grid_cv.best_estimator_.named_steps.randomforestregressor.feature_importances_\r\n",
    "rf_feat_imps = pd.Series(imps, index=Xbatch_train.columns).sort_values(ascending=False)\r\n",
    "rf_feat_imps.plot(kind='bar')\r\n",
    "plt.xlabel('features')\r\n",
    "plt.ylabel('importance')\r\n",
    "plt.title('Best random forest regressor feature importances');"
   ],
   "outputs": [
    {
     "output_type": "display_data",
     "data": {
      "image/png": "[encoded data removed]",
      "text/plain": [
       "<Figure size 720x360 with 1 Axes>"
      ]
     },
     "metadata": {
      "needs_background": "light"
     }
    }
   ],
   "metadata": {}
  },
  {
   "cell_type": "markdown",
   "source": [
    "### Random forest regression model performance"
   ],
   "metadata": {}
  },
  {
   "cell_type": "code",
   "execution_count": 206,
   "source": [
    "rf_neg_mae = cross_validate(rf_grid_cv.best_estimator_, Xbatch_train, ybatch_train, \r\n",
    "                            scoring='neg_mean_absolute_error', cv=5, n_jobs=-1)"
   ],
   "outputs": [],
   "metadata": {}
  },
  {
   "cell_type": "code",
   "execution_count": 207,
   "source": [
    "rf_mae_mean = np.mean(-1 * rf_neg_mae['test_score'])\r\n",
    "rf_mae_std = np.std(-1 * rf_neg_mae['test_score'])\r\n",
    "rf_mae_mean, rf_mae_std"
   ],
   "outputs": [
    {
     "output_type": "execute_result",
     "data": {
      "text/plain": [
       "(0.480447275520667, 0.023338498459929455)"
      ]
     },
     "metadata": {},
     "execution_count": 207
    }
   ],
   "metadata": {}
  },
  {
   "cell_type": "code",
   "execution_count": 208,
   "source": [
    "mean_absolute_error(ybatch_test, rf_grid_cv.best_estimator_.predict(Xbatch_test))"
   ],
   "outputs": [
    {
     "output_type": "execute_result",
     "data": {
      "text/plain": [
       "0.46846535854150867"
      ]
     },
     "metadata": {},
     "execution_count": 208
    }
   ],
   "metadata": {}
  },
  {
   "cell_type": "markdown",
   "source": [
    "## 4.12 Data quantity assessment<a id='4.12_Data_quantity_assessment'></a>"
   ],
   "metadata": {}
  },
  {
   "cell_type": "code",
   "execution_count": 209,
   "source": [
    "fractions = [.2, .25, .3, .35, .4, .45, .5, .6, .75, .8, 1.0]\r\n",
    "train_size, train_scores, test_scores = learning_curve(pipe, Xbatch_train, ybatch_train, train_sizes=fractions)\r\n",
    "train_scores_mean = np.mean(train_scores, axis=1)\r\n",
    "train_scores_std = np.std(train_scores, axis=1)\r\n",
    "test_scores_mean = np.mean(test_scores, axis=1)\r\n",
    "test_scores_std = np.std(test_scores, axis=1)"
   ],
   "outputs": [],
   "metadata": {}
  },
  {
   "cell_type": "code",
   "execution_count": 210,
   "source": [
    "plt.subplots(figsize=(10, 5))\r\n",
    "plt.errorbar(train_size, test_scores_mean, yerr=test_scores_std)\r\n",
    "plt.xlabel('Training set size')\r\n",
    "plt.ylabel('CV scores')\r\n",
    "plt.title('Cross-validation score as training set size increases');"
   ],
   "outputs": [
    {
     "output_type": "display_data",
     "data": {
      "image/png": "[encoded data removed]",
      "text/plain": [
       "<Figure size 720x360 with 1 Axes>"
      ]
     },
     "metadata": {
      "needs_background": "light"
     }
    }
   ],
   "metadata": {}
  },
  {
   "cell_type": "markdown",
   "source": [
    "## Save best Extra Trees model object from pipeline"
   ],
   "metadata": {}
  },
  {
   "cell_type": "code",
   "execution_count": 284,
   "source": [
    "#Model info\r\n",
    "best_model = etr_grid_cv.best_estimator_\r\n",
    "best_model.version = '1.0'\r\n",
    "best_model.pandas_version = pd.__version__\r\n",
    "best_model.numpy_version = np.__version__\r\n",
    "best_model.sklearn_version = sklearn_version\r\n",
    "best_model.X_columns = [col for col in Xbatch_train.columns]\r\n",
    "best_model.build_datetime = datetime.datetime.now()"
   ],
   "outputs": [],
   "metadata": {}
  },
  {
   "cell_type": "code",
   "execution_count": 285,
   "source": [
    "# save the model\r\n",
    "\r\n",
    "modelpath = './models'\r\n",
    "save_file(best_model, 'batch_clar_eff_model.pkl', modelpath)"
   ],
   "outputs": [
    {
     "output_type": "stream",
     "name": "stdout",
     "text": [
      "A file already exists with this name.\n",
      "\n",
      "Writing file.  \"./models\\batch_clar_eff_model.pkl\"\n"
     ]
    }
   ],
   "metadata": {}
  },
  {
   "cell_type": "code",
   "execution_count": null,
   "source": [],
   "outputs": [],
   "metadata": {}
  }
 ],
 "metadata": {
  "kernelspec": {
   "name": "python3",
   "display_name": "Python 3.8.10 64-bit ('Springboard': conda)"
  },
  "language_info": {
   "codemirror_mode": {
    "name": "ipython",
    "version": 3
   },
   "file_extension": ".py",
   "mimetype": "text/x-python",
   "name": "python",
   "nbconvert_exporter": "python",
   "pygments_lexer": "ipython3",
   "version": "3.8.10"
  },
  "toc": {
   "base_numbering": 1,
   "nav_menu": {},
   "number_sections": true,
   "sideBar": true,
   "skip_h1_title": false,
   "title_cell": "Table of Contents",
   "title_sidebar": "Contents",
   "toc_cell": false,
   "toc_position": {},
   "toc_section_display": true,
   "toc_window_display": true
  },
  "varInspector": {
   "cols": {
    "lenName": 16,
    "lenType": 16,
    "lenVar": 40
   },
   "kernels_config": {
    "python": {
     "delete_cmd_postfix": "",
     "delete_cmd_prefix": "del ",
     "library": "var_list.py",
     "varRefreshCmd": "print(var_dic_list())"
    },
    "r": {
     "delete_cmd_postfix": ") ",
     "delete_cmd_prefix": "rm(",
     "library": "var_list.r",
     "varRefreshCmd": "cat(var_dic_list()) "
    }
   },
   "types_to_exclude": [
    "module",
    "function",
    "builtin_function_or_method",
    "instance",
    "_Feature"
   ],
   "window_display": false
  },
  "interpreter": {
   "hash": "5aba52893a57ee58c7bf441bea12636afd893df5c52c2aeb773e3c18226953a5"
  }
 },
 "nbformat": 4,
 "nbformat_minor": 4
}