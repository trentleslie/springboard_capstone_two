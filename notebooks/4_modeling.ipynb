{
 "cells": [
  {
   "cell_type": "markdown",
   "metadata": {},
   "source": [
    "# Modeling"
   ]
  },
  {
   "cell_type": "markdown",
   "metadata": {},
   "source": [
    "## Introduction\n",
    "\n",
    "### In the Preprocessing and Training notebook (<a href=\"https://github.com/trentleslie/Springboard/blob/main/16.3%20Capstone%20Two%20-%20Pre-processing%20and%20Training%20Data%20Development/3_preprocessing_and_training.ipynb\">here</a>), models were evaluated for clarification efficiency at the recipe level and individual batch runs level. Using lazypredict, the two levels were evaluated with dropped NA values, NA values imputed with median values, and NA values imputed with mean values. \n",
    "###  Dropping NA values demonstrated the best performance by regression (R-squared and MAE) and by ExtraTreesRegressor (adjussted R-squared and RMSE) across all three approaches. With recipe level data, lazypredict found no useful models regardless of imputing method, presumably due to sample size. With batch level data, however, lazypredict found that tree models performed well enough for further evaluation.\n",
    "### Specifically, the extra tree regressor performed the best, edging out random forest. In this notebook, the extra trees regressor will be further developed by evaluating feature selection."
   ]
  },
  {
   "cell_type": "markdown",
   "metadata": {},
   "source": [
    "## Imports"
   ]
  },
  {
   "cell_type": "code",
   "execution_count": 2,
   "metadata": {},
   "outputs": [],
   "source": [
    "import pandas as pd\n",
    "import numpy as np\n",
    "import os\n",
    "import pickle\n",
    "import matplotlib.pyplot as plt\n",
    "import seaborn as sns\n",
    "from sklearn import __version__ as sklearn_version\n",
    "from sklearn.model_selection import cross_validate\n",
    "\n",
    "from sklearn.model_selection import train_test_split, cross_validate, GridSearchCV, learning_curve\n",
    "from sklearn.preprocessing import StandardScaler, MinMaxScaler\n",
    "from sklearn.dummy import DummyRegressor\n",
    "from sklearn.linear_model import LinearRegression\n",
    "from sklearn.ensemble import RandomForestRegressor\n",
    "from sklearn.ensemble import ExtraTreesRegressor\n",
    "from sklearn.metrics import r2_score, mean_squared_error, mean_absolute_error\n",
    "from sklearn.pipeline import make_pipeline\n",
    "from sklearn.impute import SimpleImputer\n",
    "from sklearn.feature_selection import SelectKBest, f_regression\n",
    "import datetime\n",
    "import lazypredict\n",
    "from lazypredict.Supervised import LazyRegressor\n",
    "\n",
    "#from library.sb_utils import save_file"
   ]
  },
  {
   "cell_type": "markdown",
   "metadata": {},
   "source": [
    "## Load Model"
   ]
  },
  {
   "cell_type": "code",
   "execution_count": 3,
   "metadata": {},
   "outputs": [],
   "source": [
    "# This isn't exactly production-grade, but a quick check for development\n",
    "# These checks can save some head-scratching in development when moving from\n",
    "# one python environment to another, for example\n",
    "expected_model_version = '1.0'\n",
    "model_path = '../models/best_model.pkl'\n",
    "if os.path.exists(model_path):\n",
    "    with open(model_path, 'rb') as f:\n",
    "        model = pickle.load(f)\n",
    "    if model.version != expected_model_version:\n",
    "        print(\"Expected model version doesn't match version loaded\")\n",
    "    if model.sklearn_version != sklearn_version:\n",
    "        print(\"Warning: model created under different sklearn version\")\n",
    "else:\n",
    "    print(\"Expected model not found\")"
   ]
  },
  {
   "cell_type": "markdown",
   "metadata": {},
   "source": [
    "## Load Data"
   ]
  },
  {
   "cell_type": "code",
   "execution_count": 6,
   "metadata": {},
   "outputs": [
    {
     "data": {
      "text/html": [
       "<div>\n",
       "<style scoped>\n",
       "    .dataframe tbody tr th:only-of-type {\n",
       "        vertical-align: middle;\n",
       "    }\n",
       "\n",
       "    .dataframe tbody tr th {\n",
       "        vertical-align: top;\n",
       "    }\n",
       "\n",
       "    .dataframe thead th {\n",
       "        text-align: right;\n",
       "    }\n",
       "</style>\n",
       "<table border=\"1\" class=\"dataframe\">\n",
       "  <thead>\n",
       "    <tr style=\"text-align: right;\">\n",
       "      <th></th>\n",
       "      <th>base_malt_pct_log</th>\n",
       "      <th>Boil Kettle_log</th>\n",
       "      <th>Whirlpool_log</th>\n",
       "      <th>Fermenter_log</th>\n",
       "      <th>Total Hops_log</th>\n",
       "      <th>fermenter_temperature_log</th>\n",
       "      <th>cu_low_log</th>\n",
       "      <th>cu_high_log</th>\n",
       "      <th>cu_setpoint_log</th>\n",
       "      <th>pre_run_dump_volume_log</th>\n",
       "      <th>original_gravity_log</th>\n",
       "      <th>clar_eff_log</th>\n",
       "    </tr>\n",
       "  </thead>\n",
       "  <tbody>\n",
       "    <tr>\n",
       "      <th>91</th>\n",
       "      <td>0.47</td>\n",
       "      <td>0.79</td>\n",
       "      <td>0.22</td>\n",
       "      <td>0.54</td>\n",
       "      <td>0.76</td>\n",
       "      <td>0.02</td>\n",
       "      <td>-0.85</td>\n",
       "      <td>0.11</td>\n",
       "      <td>-0.71</td>\n",
       "      <td>0.89</td>\n",
       "      <td>0.37</td>\n",
       "      <td>-1.82</td>\n",
       "    </tr>\n",
       "    <tr>\n",
       "      <th>92</th>\n",
       "      <td>0.47</td>\n",
       "      <td>0.79</td>\n",
       "      <td>0.22</td>\n",
       "      <td>0.54</td>\n",
       "      <td>0.76</td>\n",
       "      <td>0.02</td>\n",
       "      <td>-0.85</td>\n",
       "      <td>0.11</td>\n",
       "      <td>-0.71</td>\n",
       "      <td>0.89</td>\n",
       "      <td>0.37</td>\n",
       "      <td>-1.82</td>\n",
       "    </tr>\n",
       "    <tr>\n",
       "      <th>93</th>\n",
       "      <td>0.47</td>\n",
       "      <td>0.79</td>\n",
       "      <td>0.22</td>\n",
       "      <td>0.54</td>\n",
       "      <td>0.76</td>\n",
       "      <td>-0.53</td>\n",
       "      <td>-0.15</td>\n",
       "      <td>-0.61</td>\n",
       "      <td>-0.71</td>\n",
       "      <td>0.87</td>\n",
       "      <td>0.37</td>\n",
       "      <td>-0.58</td>\n",
       "    </tr>\n",
       "    <tr>\n",
       "      <th>96</th>\n",
       "      <td>0.47</td>\n",
       "      <td>0.79</td>\n",
       "      <td>0.22</td>\n",
       "      <td>0.54</td>\n",
       "      <td>0.76</td>\n",
       "      <td>-0.29</td>\n",
       "      <td>0.11</td>\n",
       "      <td>-0.43</td>\n",
       "      <td>-0.71</td>\n",
       "      <td>0.77</td>\n",
       "      <td>0.37</td>\n",
       "      <td>-0.75</td>\n",
       "    </tr>\n",
       "    <tr>\n",
       "      <th>99</th>\n",
       "      <td>0.47</td>\n",
       "      <td>0.79</td>\n",
       "      <td>0.22</td>\n",
       "      <td>0.54</td>\n",
       "      <td>0.76</td>\n",
       "      <td>-0.11</td>\n",
       "      <td>-1.56</td>\n",
       "      <td>-1.33</td>\n",
       "      <td>-0.71</td>\n",
       "      <td>0.79</td>\n",
       "      <td>0.37</td>\n",
       "      <td>-1.44</td>\n",
       "    </tr>\n",
       "  </tbody>\n",
       "</table>\n",
       "</div>"
      ],
      "text/plain": [
       "    base_malt_pct_log  Boil Kettle_log  Whirlpool_log  Fermenter_log  \\\n",
       "91               0.47             0.79           0.22           0.54   \n",
       "92               0.47             0.79           0.22           0.54   \n",
       "93               0.47             0.79           0.22           0.54   \n",
       "96               0.47             0.79           0.22           0.54   \n",
       "99               0.47             0.79           0.22           0.54   \n",
       "\n",
       "    Total Hops_log  fermenter_temperature_log  cu_low_log  cu_high_log  \\\n",
       "91            0.76                       0.02       -0.85         0.11   \n",
       "92            0.76                       0.02       -0.85         0.11   \n",
       "93            0.76                      -0.53       -0.15        -0.61   \n",
       "96            0.76                      -0.29        0.11        -0.43   \n",
       "99            0.76                      -0.11       -1.56        -1.33   \n",
       "\n",
       "    cu_setpoint_log  pre_run_dump_volume_log  original_gravity_log  \\\n",
       "91            -0.71                     0.89                  0.37   \n",
       "92            -0.71                     0.89                  0.37   \n",
       "93            -0.71                     0.87                  0.37   \n",
       "96            -0.71                     0.77                  0.37   \n",
       "99            -0.71                     0.79                  0.37   \n",
       "\n",
       "    clar_eff_log  \n",
       "91         -1.82  \n",
       "92         -1.82  \n",
       "93         -0.58  \n",
       "96         -0.75  \n",
       "99         -1.44  "
      ]
     },
     "execution_count": 6,
     "metadata": {},
     "output_type": "execute_result"
    }
   ],
   "source": [
    "batch_data = pd.read_csv('../data/processed/batch_data_clean_log.csv').drop('rcp_id', axis=1)\n",
    "batch_data = batch_data.dropna()\n",
    "batch_data.head()"
   ]
  },
  {
   "cell_type": "markdown",
   "metadata": {},
   "source": [
    "## Refit Model On All Available Data\n",
    "\n",
    "### I actually forgot to apply lazypredict on those imputed by the mean in the prior notebook (I have added it now though), so I'm going to check that for quick comparison. Since the original data was scaled and transformed, I don't expect this to make much of a difference. "
   ]
  },
  {
   "cell_type": "code",
   "execution_count": 7,
   "metadata": {},
   "outputs": [],
   "source": [
    "Xbatch_train, Xbatch_test, ybatch_train, ybatch_test = train_test_split(batch_data.drop(columns='clar_eff_log'), \n",
    "                                                    batch_data.clar_eff_log, test_size=0.3, \n",
    "                                                    random_state=47)"
   ]
  },
  {
   "cell_type": "code",
   "execution_count": 8,
   "metadata": {},
   "outputs": [
    {
     "name": "stderr",
     "output_type": "stream",
     "text": [
      " 26%|██▌       | 11/42 [00:00<00:01, 28.55it/s]"
     ]
    },
    {
     "name": "stdout",
     "output_type": "stream",
     "text": [
      "GammaRegressor model failed to execute\n",
      "Some value(s) of y are out of the valid range for family GammaDistribution\n"
     ]
    },
    {
     "name": "stderr",
     "output_type": "stream",
     "text": [
      " 67%|██████▋   | 28/42 [00:01<00:00, 15.79it/s]"
     ]
    },
    {
     "name": "stdout",
     "output_type": "stream",
     "text": [
      "PoissonRegressor model failed to execute\n",
      "Some value(s) of y are out of the valid range for family PoissonDistribution\n"
     ]
    },
    {
     "name": "stderr",
     "output_type": "stream",
     "text": [
      "100%|██████████| 42/42 [00:02<00:00, 20.69it/s]"
     ]
    },
    {
     "name": "stdout",
     "output_type": "stream",
     "text": [
      "                               Adjusted R-Squared  R-Squared  RMSE  Time Taken\n",
      "Model                                                                         \n",
      "RandomForestRegressor                        0.59       0.63  0.61        0.21\n",
      "ExtraTreesRegressor                          0.59       0.63  0.61        0.12\n",
      "LGBMRegressor                                0.58       0.62  0.62        0.06\n",
      "BaggingRegressor                             0.57       0.61  0.62        0.03\n",
      "HistGradientBoostingRegressor                0.57       0.61  0.62        0.40\n",
      "NuSVR                                        0.52       0.57  0.66        0.01\n",
      "SVR                                          0.51       0.56  0.67        0.01\n",
      "GradientBoostingRegressor                    0.51       0.56  0.67        0.05\n",
      "MLPRegressor                                 0.47       0.52  0.70        0.38\n",
      "AdaBoostRegressor                            0.46       0.51  0.70        0.08\n",
      "XGBRegressor                                 0.42       0.47  0.73        0.07\n",
      "ExtraTreeRegressor                           0.41       0.46  0.74        0.01\n",
      "HuberRegressor                               0.36       0.42  0.76        0.02\n",
      "OrthogonalMatchingPursuitCV                  0.35       0.41  0.77        0.01\n",
      "KNeighborsRegressor                          0.35       0.41  0.77        0.01\n",
      "Ridge                                        0.33       0.39  0.78        0.01\n",
      "TransformedTargetRegressor                   0.33       0.39  0.78        0.01\n",
      "LinearRegression                             0.33       0.39  0.78        0.01\n",
      "SGDRegressor                                 0.33       0.39  0.78        0.01\n",
      "RidgeCV                                      0.32       0.39  0.79        0.01\n",
      "LassoLarsIC                                  0.32       0.39  0.79        0.02\n",
      "LassoCV                                      0.32       0.38  0.79        0.08\n",
      "LassoLarsCV                                  0.32       0.38  0.79        0.03\n",
      "LinearSVR                                    0.32       0.38  0.79        0.02\n",
      "ElasticNetCV                                 0.32       0.38  0.79        0.09\n",
      "LarsCV                                       0.32       0.38  0.79        0.03\n",
      "BayesianRidge                                0.32       0.38  0.79        0.01\n",
      "KernelRidge                                  0.29       0.36  0.80        0.02\n",
      "PassiveAggressiveRegressor                   0.27       0.34  0.81        0.01\n",
      "TweedieRegressor                             0.23       0.31  0.84        0.01\n",
      "GeneralizedLinearRegressor                   0.23       0.31  0.84        0.01\n",
      "GaussianProcessRegressor                     0.21       0.28  0.85        0.02\n",
      "OrthogonalMatchingPursuit                    0.07       0.16  0.92        0.01\n",
      "DecisionTreeRegressor                       -0.04       0.06  0.97        0.01\n",
      "ElasticNet                                  -0.11      -0.00  1.00        0.01\n",
      "DummyRegressor                              -0.11      -0.00  1.00        0.01\n",
      "Lasso                                       -0.11      -0.00  1.00        0.01\n",
      "LassoLars                                   -0.11      -0.00  1.00        0.01\n",
      "RANSACRegressor                             -5.15      -4.57  2.37        0.05\n",
      "Lars                                       -22.58     -20.38  4.64        0.01\n"
     ]
    },
    {
     "name": "stderr",
     "output_type": "stream",
     "text": [
      "\n"
     ]
    }
   ],
   "source": [
    "batch_tr = Xbatch_train\n",
    "Xbatch_te = Xbatch_test\n",
    "\n",
    "Xbatch_defaults_median = Xbatch_train.mean()\n",
    "\n",
    "Xbatch_tr = Xbatch_train.fillna(Xbatch_defaults_median)\n",
    "Xbatch_te = Xbatch_test.fillna(Xbatch_defaults_median)\n",
    "\n",
    "reg_batch = LazyRegressor(verbose=0, ignore_warnings=False, custom_metric=None)\n",
    "models_batch, predictions_batch = reg_batch.fit(Xbatch_tr, Xbatch_te, ybatch_train, ybatch_test)\n",
    "\n",
    "print(models_batch)"
   ]
  },
  {
   "cell_type": "markdown",
   "metadata": {},
   "source": [
    "### As expected, these results are nearly identical to those imputed with median. In fact, the only difference in the extra trees regressor is an improvement of 0.02 in time taken. I'm going to stick to the original extra trees regressor (with dropped missing values) for easier comparison to feature selection work.\n"
   ]
  },
  {
   "cell_type": "code",
   "execution_count": 9,
   "metadata": {},
   "outputs": [
    {
     "name": "stdout",
     "output_type": "stream",
     "text": [
      "R-squared: (1.0, 0.6035399279797817)\n",
      "MAE: (1.0045739811604319e-15, 0.2929260922919227)\n",
      "MSE: (1.9253993141852748e-30, 0.3995806815811044)\n",
      "CV Scores: [0.30605415 0.568767   0.54466217 0.13686549 0.65948042]\n",
      "CV Score Mean: 0.4431658453078879\n",
      "CV Score Std: 0.19260772407607363\n",
      "CV Score 95% CI: [0.06 0.83]\n"
     ]
    }
   ],
   "source": [
    "pipe = make_pipeline(\n",
    "    SimpleImputer(strategy='median'), \n",
    "    StandardScaler(), \n",
    "    ExtraTreesRegressor()\n",
    ")\n",
    "\n",
    "pipe.fit(Xbatch_tr, ybatch_train)\n",
    "\n",
    "y_tr_pred = pipe.predict(Xbatch_tr)\n",
    "y_te_pred = pipe.predict(Xbatch_te)\n",
    "\n",
    "#R-squared\n",
    "print(f\"R-squared: {r2_score(ybatch_train, y_tr_pred), r2_score(ybatch_test, y_te_pred)}\")\n",
    "\n",
    "#MAE\n",
    "print(f\"MAE: {mean_absolute_error(ybatch_train, y_tr_pred), mean_absolute_error(ybatch_test, y_te_pred)}\")\n",
    "\n",
    "#MSE\n",
    "print(f\"MSE: {mean_squared_error(ybatch_train, y_tr_pred), mean_squared_error(ybatch_test, y_te_pred)}\")\n",
    "\n",
    "cv_results = cross_validate(pipe, Xbatch_tr, ybatch_train, cv=5)\n",
    "cv_scores = cv_results['test_score']\n",
    "print(f\"CV Scores: {cv_scores}\")\n",
    "print(f\"CV Score Mean: {np.mean(cv_scores)}\")\n",
    "print(f\"CV Score Std: {np.std(cv_scores)}\")\n",
    "print(f\"CV Score 95% CI: {np.round((np.mean(cv_scores) - 2 * np.std(cv_scores), np.mean(cv_scores) + 2 * np.std(cv_scores)), 2)}\")\n"
   ]
  },
  {
   "cell_type": "markdown",
   "metadata": {},
   "source": [
    "## Hyperparameter search using GridSearchCV (with Extra Trees Regressor)"
   ]
  },
  {
   "cell_type": "code",
   "execution_count": 10,
   "metadata": {},
   "outputs": [
    {
     "name": "stdout",
     "output_type": "stream",
     "text": [
      "R-squared: (1.0, 0.584508899318769)\n",
      "MAE: (1.0045739811604319e-15, 0.32003450847398424)\n",
      "MSE: (1.9253993141852748e-30, 0.418761506940913)\n",
      "CV Scores: [0.34036851 0.58357814 0.55201092 0.10118979 0.64585898]\n",
      "CV Score Mean: 0.4446012703796594\n",
      "CV Score Std: 0.2000759774201196\n",
      "CV Score 95% CI: [0.04 0.84]\n"
     ]
    },
    {
     "data": {
      "text/plain": [
       "Text(0.5, 1.0, 'Best extra trees regressor feature importances')"
      ]
     },
     "execution_count": 10,
     "metadata": {},
     "output_type": "execute_result"
    },
    {
     "data": {
      "image/png": "[encoded data removed]",
      "text/plain": [
       "<Figure size 720x360 with 1 Axes>"
      ]
     },
     "metadata": {
      "needs_background": "light"
     },
     "output_type": "display_data"
    },
    {
     "data": {
      "image/png": "[encoded data removed]",
      "text/plain": [
       "<Figure size 720x360 with 1 Axes>"
      ]
     },
     "metadata": {
      "needs_background": "light"
     },
     "output_type": "display_data"
    }
   ],
   "source": [
    "pipe = make_pipeline(\n",
    "    SimpleImputer(strategy='median'), \n",
    "    StandardScaler(),\n",
    "    SelectKBest(score_func=f_regression, k=8),\n",
    "    ExtraTreesRegressor()\n",
    ")\n",
    "\n",
    "pipe.fit(Xbatch_tr, ybatch_train)\n",
    "\n",
    "y_tr_pred = pipe.predict(Xbatch_tr)\n",
    "y_te_pred = pipe.predict(Xbatch_te)\n",
    "\n",
    "#R-squared\n",
    "print(f\"R-squared: {r2_score(ybatch_train, y_tr_pred), r2_score(ybatch_test, y_te_pred)}\")\n",
    "\n",
    "#MAE\n",
    "print(f\"MAE: {mean_absolute_error(ybatch_train, y_tr_pred), mean_absolute_error(ybatch_test, y_te_pred)}\")\n",
    "\n",
    "#MSE\n",
    "print(f\"MSE: {mean_squared_error(ybatch_train, y_tr_pred), mean_squared_error(ybatch_test, y_te_pred)}\")\n",
    "\n",
    "cv_results = cross_validate(pipe, Xbatch_tr, ybatch_train, cv=5)\n",
    "cv_scores = cv_results['test_score']\n",
    "print(f\"CV Scores: {cv_scores}\")\n",
    "print(f\"CV Score Mean: {np.mean(cv_scores)}\")\n",
    "print(f\"CV Score Std: {np.std(cv_scores)}\")\n",
    "print(f\"CV Score 95% CI: {np.round((np.mean(cv_scores) - 2 * np.std(cv_scores), np.mean(cv_scores) + 2 * np.std(cv_scores)), 2)}\")\n",
    "\n",
    "k = [k+1 for k in range(len(Xbatch_train.columns))]\n",
    "grid_params = {'selectkbest__k': k}\n",
    "\n",
    "etr_grid_cv = GridSearchCV(pipe, param_grid=grid_params, cv=5, n_jobs=-1)\n",
    "\n",
    "etr_grid_cv.fit(Xbatch_train, ybatch_train)\n",
    "\n",
    "score_mean = etr_grid_cv.cv_results_['mean_test_score']\n",
    "score_std = etr_grid_cv.cv_results_['std_test_score']\n",
    "cv_k = [k for k in etr_grid_cv.cv_results_['param_selectkbest__k']]\n",
    "\n",
    "#Print the `best_params_` attribute of `lr_grid_cv`\n",
    "etr_grid_cv.best_params_\n",
    "\n",
    "#Assign the value of k from the above dict of `best_params_` and assign it to `best_k`\n",
    "best_k = etr_grid_cv.best_params_['selectkbest__k']\n",
    "plt.subplots(figsize=(10, 5))\n",
    "plt.errorbar(cv_k, score_mean, yerr=score_std)\n",
    "plt.axvline(x=best_k, c='r', ls='--', alpha=.5)\n",
    "plt.xlabel('k')\n",
    "plt.ylabel('CV score (r-squared)')\n",
    "plt.title('Pipeline mean CV score (error bars +/- 1sd)')\n",
    "\n",
    "#Plot a barplot of the random forest's feature importances\n",
    "plt.subplots(figsize=(10, 5))\n",
    "imps = etr_grid_cv.best_estimator_.named_steps.extratreesregressor.feature_importances_\n",
    "rf_feat_imps = pd.Series(imps, index=Xbatch_train.columns).sort_values(ascending=False)\n",
    "rf_feat_imps.plot(kind='bar')\n",
    "plt.xlabel('features')\n",
    "plt.ylabel('importance')\n",
    "plt.title('Best extra trees regressor feature importances')"
   ]
  },
  {
   "cell_type": "markdown",
   "metadata": {},
   "source": [
    "## Feature Selection"
   ]
  },
  {
   "cell_type": "markdown",
   "metadata": {},
   "source": [
    "### To make it more useful in practice, I am going to investigate a model without the features that we don't know prior to brew day. This would be removing pre_run_dump_volume_log, cu_high_log, and cu_low_log. Further, since total_hops_log is of lowest importance and derived from the other hop values, I will remove it as well."
   ]
  },
  {
   "cell_type": "code",
   "execution_count": 11,
   "metadata": {},
   "outputs": [
    {
     "name": "stdout",
     "output_type": "stream",
     "text": [
      "      base_malt_pct_log  Boil Kettle_log  Whirlpool_log  Fermenter_log  \\\n",
      "876               -1.24            -0.94          -1.74          -1.24   \n",
      "108                0.47             0.79           0.22           0.54   \n",
      "1108               0.43             2.44           1.72           2.60   \n",
      "542               -1.71            -1.27          -1.74          -1.24   \n",
      "277               -0.49            -0.48           0.37          -0.29   \n",
      "\n",
      "      fermenter_temperature_log  cu_setpoint_log  original_gravity_log  \n",
      "876                       -1.22             2.23                  1.38  \n",
      "108                        1.12            -0.71                  0.37  \n",
      "1108                       0.11             1.19                  1.73  \n",
      "542                       -0.78            -0.71                 -1.48  \n",
      "277                       -0.63            -0.71                 -0.03  \n",
      "      base_malt_pct_log  Boil Kettle_log  Whirlpool_log  Fermenter_log  \\\n",
      "956               -0.22            -0.81           1.20           1.42   \n",
      "237                0.47             0.79           0.22           0.54   \n",
      "1027              -2.00            -1.00          -0.52          -1.24   \n",
      "789                2.09            -1.56           0.56           0.77   \n",
      "180                0.47             0.79           0.22           0.54   \n",
      "\n",
      "      fermenter_temperature_log  cu_setpoint_log  original_gravity_log  \n",
      "956                        0.54            -0.26                  0.82  \n",
      "237                        0.83            -0.71                  0.37  \n",
      "1027                      -0.89            -0.26                 -0.46  \n",
      "789                       -0.43            -0.71                 -2.32  \n",
      "180                       -0.06            -0.71                  0.37  \n"
     ]
    }
   ],
   "source": [
    "Xbatch_tr = Xbatch_tr.drop([\"pre_run_dump_volume_log\", \"cu_high_log\", \"cu_low_log\", \"Total Hops_log\"], axis=1)\n",
    "Xbatch_te = Xbatch_te.drop([\"pre_run_dump_volume_log\", \"cu_high_log\", \"cu_low_log\", \"Total Hops_log\"], axis=1)\n",
    "\n",
    "print(Xbatch_tr.head())\n",
    "print(Xbatch_te.head())\n"
   ]
  },
  {
   "cell_type": "code",
   "execution_count": 12,
   "metadata": {},
   "outputs": [
    {
     "name": "stdout",
     "output_type": "stream",
     "text": [
      "R-squared: (0.9367905908248134, 0.5594795069915974)\n",
      "MAE: (0.06275908230435664, 0.3719793394590622)\n",
      "MSE: (0.05164000702715089, 0.4439879101816965)\n",
      "CV Scores: [0.16528887 0.29287101 0.38492153 0.40353543 0.53825928]\n",
      "CV Score Mean: 0.3569752266952476\n",
      "CV Score Std: 0.12382711173927256\n",
      "CV Score 95% CI: [0.11 0.6 ]\n"
     ]
    },
    {
     "data": {
      "text/plain": [
       "Text(0.5, 1.0, 'Best random forest regressor feature importances')"
      ]
     },
     "execution_count": 12,
     "metadata": {},
     "output_type": "execute_result"
    },
    {
     "data": {
      "image/png": "[encoded data removed]",
      "text/plain": [
       "<Figure size 720x360 with 1 Axes>"
      ]
     },
     "metadata": {
      "needs_background": "light"
     },
     "output_type": "display_data"
    },
    {
     "data": {
      "image/png": "[encoded data removed]",
      "text/plain": [
       "<Figure size 720x360 with 1 Axes>"
      ]
     },
     "metadata": {
      "needs_background": "light"
     },
     "output_type": "display_data"
    }
   ],
   "source": [
    "pipe = make_pipeline(\n",
    "    SimpleImputer(strategy='median'), \n",
    "    StandardScaler(),\n",
    "    SelectKBest(score_func=f_regression, k=7),\n",
    "    ExtraTreesRegressor()\n",
    ")\n",
    "\n",
    "pipe.fit(Xbatch_tr, ybatch_train)\n",
    "\n",
    "y_tr_pred = pipe.predict(Xbatch_tr)\n",
    "y_te_pred = pipe.predict(Xbatch_te)\n",
    "\n",
    "#R-squared\n",
    "print(f\"R-squared: {r2_score(ybatch_train, y_tr_pred), r2_score(ybatch_test, y_te_pred)}\")\n",
    "\n",
    "#MAE\n",
    "print(f\"MAE: {mean_absolute_error(ybatch_train, y_tr_pred), mean_absolute_error(ybatch_test, y_te_pred)}\")\n",
    "\n",
    "#MSE\n",
    "print(f\"MSE: {mean_squared_error(ybatch_train, y_tr_pred), mean_squared_error(ybatch_test, y_te_pred)}\")\n",
    "\n",
    "cv_results = cross_validate(pipe, Xbatch_tr, ybatch_train, cv=5)\n",
    "cv_scores = cv_results['test_score']\n",
    "print(f\"CV Scores: {cv_scores}\")\n",
    "print(f\"CV Score Mean: {np.mean(cv_scores)}\")\n",
    "print(f\"CV Score Std: {np.std(cv_scores)}\")\n",
    "print(f\"CV Score 95% CI: {np.round((np.mean(cv_scores) - 2 * np.std(cv_scores), np.mean(cv_scores) + 2 * np.std(cv_scores)), 2)}\")\n",
    "\n",
    "k = [k+1 for k in range(len(Xbatch_tr.columns))]\n",
    "grid_params = {'selectkbest__k': k}\n",
    "\n",
    "etr_grid_cv = GridSearchCV(pipe, param_grid=grid_params, cv=5, n_jobs=-1)\n",
    "\n",
    "etr_grid_cv.fit(Xbatch_tr, ybatch_train)\n",
    "\n",
    "score_mean = etr_grid_cv.cv_results_['mean_test_score']\n",
    "score_std = etr_grid_cv.cv_results_['std_test_score']\n",
    "cv_k = [k for k in etr_grid_cv.cv_results_['param_selectkbest__k']]\n",
    "\n",
    "#Print the `best_params_` attribute of `lr_grid_cv`\n",
    "etr_grid_cv.best_params_\n",
    "\n",
    "#Assign the value of k from the above dict of `best_params_` and assign it to `best_k`\n",
    "best_k = etr_grid_cv.best_params_['selectkbest__k']\n",
    "plt.subplots(figsize=(10, 5))\n",
    "plt.errorbar(cv_k, score_mean, yerr=score_std)\n",
    "plt.axvline(x=best_k, c='r', ls='--', alpha=.5)\n",
    "plt.xlabel('k')\n",
    "plt.ylabel('CV score (r-squared)')\n",
    "plt.title('Pipeline mean CV score (error bars +/- 1sd)')\n",
    "\n",
    "#Plot a barplot of the random forest's feature importances\n",
    "plt.subplots(figsize=(10, 5))\n",
    "imps = etr_grid_cv.best_estimator_.named_steps.extratreesregressor.feature_importances_\n",
    "rf_feat_imps = pd.Series(imps, index=Xbatch_tr.columns).sort_values(ascending=False)\n",
    "rf_feat_imps.plot(kind='bar')\n",
    "plt.xlabel('features')\n",
    "plt.ylabel('importance')\n",
    "plt.title('Best random forest regressor feature importances')"
   ]
  },
  {
   "cell_type": "markdown",
   "metadata": {},
   "source": [
    "### There is definitely a cost with removing features, but most of the cost is on the training data prediction. The performance on the test data was impacted, but not nearly as much as the training data. This suggests the dropped features were resulting in the regressor training to the training data and not necessarily performing much better on unseen data. Regardless of any shortcomings with the model of fewer features, the extra trees regressor is the best model for this data."
   ]
  },
  {
   "cell_type": "markdown",
   "metadata": {},
   "source": []
  }
 ],
 "metadata": {
  "interpreter": {
   "hash": "5aba52893a57ee58c7bf441bea12636afd893df5c52c2aeb773e3c18226953a5"
  },
  "kernelspec": {
   "display_name": "Python 3.8.10 64-bit ('Springboard': conda)",
   "name": "python3"
  },
  "language_info": {
   "codemirror_mode": {
    "name": "ipython",
    "version": 3
   },
   "file_extension": ".py",
   "mimetype": "text/x-python",
   "name": "python",
   "nbconvert_exporter": "python",
   "pygments_lexer": "ipython3",
   "version": "3.8.10"
  },
  "toc": {
   "base_numbering": 1,
   "nav_menu": {},
   "number_sections": true,
   "sideBar": true,
   "skip_h1_title": false,
   "title_cell": "Table of Contents",
   "title_sidebar": "Contents",
   "toc_cell": false,
   "toc_position": {},
   "toc_section_display": true,
   "toc_window_display": true
  },
  "varInspector": {
   "cols": {
    "lenName": 16,
    "lenType": 16,
    "lenVar": 40
   },
   "kernels_config": {
    "python": {
     "delete_cmd_postfix": "",
     "delete_cmd_prefix": "del ",
     "library": "var_list.py",
     "varRefreshCmd": "print(var_dic_list())"
    },
    "r": {
     "delete_cmd_postfix": ") ",
     "delete_cmd_prefix": "rm(",
     "library": "var_list.r",
     "varRefreshCmd": "cat(var_dic_list()) "
    }
   },
   "types_to_exclude": [
    "module",
    "function",
    "builtin_function_or_method",
    "instance",
    "_Feature"
   ],
   "window_display": false
  }
 },
 "nbformat": 4,
 "nbformat_minor": 4
}
