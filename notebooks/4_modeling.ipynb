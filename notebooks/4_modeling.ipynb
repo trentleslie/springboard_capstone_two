{
 "cells": [
  {
   "cell_type": "markdown",
   "metadata": {},
   "source": [
    "# Modeling"
   ]
  },
  {
   "cell_type": "markdown",
   "metadata": {},
   "source": [
    "## Introduction\n",
    "\n",
    "### In the Preprocessing and Training notebook (<a href=\"https://github.com/trentleslie/Springboard/blob/main/16.3%20Capstone%20Two%20-%20Pre-processing%20and%20Training%20Data%20Development/3_preprocessing_and_training.ipynb\">here</a>), models were evaluated for clarification efficiency at the recipe level and individual batch runs level. Using lazypredict, the two levels were evaluated with dropped NA values, NA values imputed with median values, and NA values imputed with mean values. \n",
    "### The attempt with lazypredict failed with dropped NA values, but considering the loss of data using that approach, it was ignored and work continued with the imputing methods. With recipe level data, lazypredict found no useful models regardless of imputing method, presumably due to sample size. With batch level data, however, lazypredict found that tree models performed well enough for further evaluation.\n",
    "### Specifically, the extra tree regressor performed the best, edging out random forest. In this notebook, the extra trees regressor will be further developed by evaluating feature selection."
   ]
  },
  {
   "cell_type": "markdown",
   "metadata": {},
   "source": [
    "## Imports"
   ]
  },
  {
   "cell_type": "code",
   "execution_count": 42,
   "metadata": {},
   "outputs": [],
   "source": [
    "import pandas as pd\n",
    "import numpy as np\n",
    "import os\n",
    "import pickle\n",
    "import matplotlib.pyplot as plt\n",
    "import seaborn as sns\n",
    "from sklearn import __version__ as sklearn_version\n",
    "from sklearn.model_selection import cross_validate\n",
    "\n",
    "from sklearn.model_selection import train_test_split, cross_validate, GridSearchCV, learning_curve\n",
    "from sklearn.preprocessing import StandardScaler, MinMaxScaler\n",
    "from sklearn.dummy import DummyRegressor\n",
    "from sklearn.linear_model import LinearRegression\n",
    "from sklearn.ensemble import RandomForestRegressor\n",
    "from sklearn.ensemble import ExtraTreesRegressor\n",
    "from sklearn.metrics import r2_score, mean_squared_error, mean_absolute_error\n",
    "from sklearn.pipeline import make_pipeline\n",
    "from sklearn.impute import SimpleImputer\n",
    "from sklearn.feature_selection import SelectKBest, f_regression\n",
    "import datetime\n",
    "import lazypredict\n",
    "from lazypredict.Supervised import LazyRegressor\n",
    "\n",
    "from library.sb_utils import save_file"
   ]
  },
  {
   "cell_type": "markdown",
   "metadata": {},
   "source": [
    "## Load Model"
   ]
  },
  {
   "cell_type": "code",
   "execution_count": 43,
   "metadata": {},
   "outputs": [],
   "source": [
    "# This isn't exactly production-grade, but a quick check for development\n",
    "# These checks can save some head-scratching in development when moving from\n",
    "# one python environment to another, for example\n",
    "expected_model_version = '1.0'\n",
    "model_path = './models/batch_clar_eff_model.pkl'\n",
    "if os.path.exists(model_path):\n",
    "    with open(model_path, 'rb') as f:\n",
    "        model = pickle.load(f)\n",
    "    if model.version != expected_model_version:\n",
    "        print(\"Expected model version doesn't match version loaded\")\n",
    "    if model.sklearn_version != sklearn_version:\n",
    "        print(\"Warning: model created under different sklearn version\")\n",
    "else:\n",
    "    print(\"Expected model not found\")"
   ]
  },
  {
   "cell_type": "markdown",
   "metadata": {},
   "source": [
    "## Load Data"
   ]
  },
  {
   "cell_type": "code",
   "execution_count": 44,
   "metadata": {},
   "outputs": [
    {
     "data": {
      "text/html": [
       "<div>\n",
       "<style scoped>\n",
       "    .dataframe tbody tr th:only-of-type {\n",
       "        vertical-align: middle;\n",
       "    }\n",
       "\n",
       "    .dataframe tbody tr th {\n",
       "        vertical-align: top;\n",
       "    }\n",
       "\n",
       "    .dataframe thead th {\n",
       "        text-align: right;\n",
       "    }\n",
       "</style>\n",
       "<table border=\"1\" class=\"dataframe\">\n",
       "  <thead>\n",
       "    <tr style=\"text-align: right;\">\n",
       "      <th></th>\n",
       "      <th>base_malt_pct_log</th>\n",
       "      <th>Boil Kettle_log</th>\n",
       "      <th>Whirlpool_log</th>\n",
       "      <th>Fermenter_log</th>\n",
       "      <th>Total Hops_log</th>\n",
       "      <th>fermenter_temperature_log</th>\n",
       "      <th>cu_low_log</th>\n",
       "      <th>cu_high_log</th>\n",
       "      <th>cu_setpoint_log</th>\n",
       "      <th>pre_run_dump_volume_log</th>\n",
       "      <th>original_gravity_log</th>\n",
       "      <th>clar_eff_log</th>\n",
       "    </tr>\n",
       "  </thead>\n",
       "  <tbody>\n",
       "    <tr>\n",
       "      <th>0</th>\n",
       "      <td>0.47</td>\n",
       "      <td>0.79</td>\n",
       "      <td>0.22</td>\n",
       "      <td>0.54</td>\n",
       "      <td>0.76</td>\n",
       "      <td>0.02</td>\n",
       "      <td>0.97</td>\n",
       "      <td>0.93</td>\n",
       "      <td>-0.71</td>\n",
       "      <td>nan</td>\n",
       "      <td>0.37</td>\n",
       "      <td>0.07</td>\n",
       "    </tr>\n",
       "    <tr>\n",
       "      <th>1</th>\n",
       "      <td>0.47</td>\n",
       "      <td>0.79</td>\n",
       "      <td>0.22</td>\n",
       "      <td>0.54</td>\n",
       "      <td>0.76</td>\n",
       "      <td>0.02</td>\n",
       "      <td>0.97</td>\n",
       "      <td>0.93</td>\n",
       "      <td>-0.71</td>\n",
       "      <td>nan</td>\n",
       "      <td>0.37</td>\n",
       "      <td>0.07</td>\n",
       "    </tr>\n",
       "    <tr>\n",
       "      <th>2</th>\n",
       "      <td>0.47</td>\n",
       "      <td>0.79</td>\n",
       "      <td>0.22</td>\n",
       "      <td>0.54</td>\n",
       "      <td>0.76</td>\n",
       "      <td>1.12</td>\n",
       "      <td>-0.29</td>\n",
       "      <td>-0.47</td>\n",
       "      <td>-0.71</td>\n",
       "      <td>nan</td>\n",
       "      <td>0.43</td>\n",
       "      <td>-0.39</td>\n",
       "    </tr>\n",
       "    <tr>\n",
       "      <th>3</th>\n",
       "      <td>0.47</td>\n",
       "      <td>0.79</td>\n",
       "      <td>0.22</td>\n",
       "      <td>0.54</td>\n",
       "      <td>0.76</td>\n",
       "      <td>1.12</td>\n",
       "      <td>0.58</td>\n",
       "      <td>1.13</td>\n",
       "      <td>0.74</td>\n",
       "      <td>nan</td>\n",
       "      <td>0.37</td>\n",
       "      <td>-0.58</td>\n",
       "    </tr>\n",
       "    <tr>\n",
       "      <th>4</th>\n",
       "      <td>0.47</td>\n",
       "      <td>0.79</td>\n",
       "      <td>0.22</td>\n",
       "      <td>0.54</td>\n",
       "      <td>0.76</td>\n",
       "      <td>0.11</td>\n",
       "      <td>0.28</td>\n",
       "      <td>1.13</td>\n",
       "      <td>2.59</td>\n",
       "      <td>nan</td>\n",
       "      <td>0.34</td>\n",
       "      <td>0.00</td>\n",
       "    </tr>\n",
       "  </tbody>\n",
       "</table>\n",
       "</div>"
      ],
      "text/plain": [
       "   base_malt_pct_log  Boil Kettle_log  Whirlpool_log  Fermenter_log  \\\n",
       "0               0.47             0.79           0.22           0.54   \n",
       "1               0.47             0.79           0.22           0.54   \n",
       "2               0.47             0.79           0.22           0.54   \n",
       "3               0.47             0.79           0.22           0.54   \n",
       "4               0.47             0.79           0.22           0.54   \n",
       "\n",
       "   Total Hops_log  fermenter_temperature_log  cu_low_log  cu_high_log  \\\n",
       "0            0.76                       0.02        0.97         0.93   \n",
       "1            0.76                       0.02        0.97         0.93   \n",
       "2            0.76                       1.12       -0.29        -0.47   \n",
       "3            0.76                       1.12        0.58         1.13   \n",
       "4            0.76                       0.11        0.28         1.13   \n",
       "\n",
       "   cu_setpoint_log  pre_run_dump_volume_log  original_gravity_log  \\\n",
       "0            -0.71                      nan                  0.37   \n",
       "1            -0.71                      nan                  0.37   \n",
       "2            -0.71                      nan                  0.43   \n",
       "3             0.74                      nan                  0.37   \n",
       "4             2.59                      nan                  0.34   \n",
       "\n",
       "   clar_eff_log  \n",
       "0          0.07  \n",
       "1          0.07  \n",
       "2         -0.39  \n",
       "3         -0.58  \n",
       "4          0.00  "
      ]
     },
     "execution_count": 44,
     "metadata": {},
     "output_type": "execute_result"
    }
   ],
   "source": [
    "batch_data = pd.read_csv('./data/batch_data_clean_log.csv').drop('rcp_id', axis=1)\n",
    "batch_data.head()"
   ]
  },
  {
   "cell_type": "markdown",
   "metadata": {},
   "source": [
    "## Refit Model On All Available Data\n",
    "\n",
    "### I actually forgot to apply lazypredict on those imputed by the mean in the prior notebook, so I'm going to check that for quick comparison. Since the original data was scaled and transformed, I don't expect this to make much of a difference. "
   ]
  },
  {
   "cell_type": "code",
   "execution_count": 45,
   "metadata": {},
   "outputs": [],
   "source": [
    "Xbatch_train, Xbatch_test, ybatch_train, ybatch_test = train_test_split(batch_data.drop(columns='clar_eff_log'), \n",
    "                                                    batch_data.clar_eff_log, test_size=0.3, \n",
    "                                                    random_state=47)"
   ]
  },
  {
   "cell_type": "code",
   "execution_count": 46,
   "metadata": {},
   "outputs": [
    {
     "name": "stderr",
     "output_type": "stream",
     "text": [
      " 31%|███       | 13/42 [00:00<00:01, 23.60it/s]"
     ]
    },
    {
     "name": "stdout",
     "output_type": "stream",
     "text": [
      "GammaRegressor model failed to execute\n",
      "Some value(s) of y are out of the valid range for family GammaDistribution\n"
     ]
    },
    {
     "name": "stderr",
     "output_type": "stream",
     "text": [
      " 79%|███████▊  | 33/42 [00:02<00:00, 14.71it/s]"
     ]
    },
    {
     "name": "stdout",
     "output_type": "stream",
     "text": [
      "PoissonRegressor model failed to execute\n",
      "Some value(s) of y are out of the valid range for family PoissonDistribution\n"
     ]
    },
    {
     "name": "stderr",
     "output_type": "stream",
     "text": [
      "100%|██████████| 42/42 [00:02<00:00, 15.26it/s]"
     ]
    },
    {
     "name": "stdout",
     "output_type": "stream",
     "text": [
      "                               Adjusted R-Squared  R-Squared  RMSE  Time Taken\n",
      "Model                                                                         \n",
      "ExtraTreesRegressor                          0.57       0.58  0.67        0.20\n",
      "RandomForestRegressor                        0.55       0.56  0.68        0.30\n",
      "XGBRegressor                                 0.48       0.50  0.73        0.05\n",
      "BaggingRegressor                             0.48       0.50  0.73        0.04\n",
      "HistGradientBoostingRegressor                0.47       0.49  0.74        0.58\n",
      "LGBMRegressor                                0.47       0.49  0.74        0.05\n",
      "GradientBoostingRegressor                    0.46       0.47  0.75        0.10\n",
      "MLPRegressor                                 0.39       0.41  0.79        0.81\n",
      "SVR                                          0.36       0.38  0.81        0.03\n",
      "NuSVR                                        0.36       0.38  0.81        0.03\n",
      "KNeighborsRegressor                          0.35       0.37  0.82        0.02\n",
      "AdaBoostRegressor                            0.34       0.37  0.82        0.06\n",
      "DecisionTreeRegressor                        0.21       0.24  0.90        0.01\n",
      "LarsCV                                       0.20       0.22  0.91        0.02\n",
      "LassoLarsCV                                  0.20       0.22  0.91        0.02\n",
      "LassoCV                                      0.20       0.22  0.91        0.05\n",
      "ElasticNetCV                                 0.20       0.22  0.91        0.05\n",
      "BayesianRidge                                0.20       0.22  0.91        0.01\n",
      "KernelRidge                                  0.20       0.22  0.91        0.03\n",
      "OrthogonalMatchingPursuitCV                  0.20       0.22  0.91        0.01\n",
      "RidgeCV                                      0.20       0.22  0.91        0.01\n",
      "LassoLarsIC                                  0.20       0.22  0.91        0.01\n",
      "Ridge                                        0.20       0.22  0.91        0.01\n",
      "Lars                                         0.19       0.22  0.91        0.01\n",
      "LinearRegression                             0.19       0.22  0.91        0.01\n",
      "TransformedTargetRegressor                   0.19       0.22  0.91        0.01\n",
      "SGDRegressor                                 0.19       0.21  0.91        0.01\n",
      "HuberRegressor                               0.16       0.19  0.93        0.02\n",
      "TweedieRegressor                             0.16       0.19  0.93        0.01\n",
      "GeneralizedLinearRegressor                   0.16       0.19  0.93        0.01\n",
      "LinearSVR                                    0.16       0.18  0.93        0.01\n",
      "ExtraTreeRegressor                           0.12       0.15  0.95        0.01\n",
      "OrthogonalMatchingPursuit                    0.05       0.08  0.99        0.01\n",
      "ElasticNet                                  -0.04      -0.00  1.03        0.01\n",
      "DummyRegressor                              -0.04      -0.00  1.03        0.01\n",
      "Lasso                                       -0.04      -0.00  1.03        0.01\n",
      "LassoLars                                   -0.04      -0.00  1.03        0.01\n",
      "PassiveAggressiveRegressor                  -0.19      -0.15  1.11        0.01\n",
      "RANSACRegressor                             -0.36      -0.31  1.18        0.05\n",
      "GaussianProcessRegressor                  -151.15    -146.12 12.51        0.05\n"
     ]
    },
    {
     "name": "stderr",
     "output_type": "stream",
     "text": [
      "\n"
     ]
    }
   ],
   "source": [
    "batch_tr = Xbatch_train\n",
    "Xbatch_te = Xbatch_test\n",
    "\n",
    "Xbatch_defaults_median = Xbatch_train.mean()\n",
    "\n",
    "Xbatch_tr = Xbatch_train.fillna(Xbatch_defaults_median)\n",
    "Xbatch_te = Xbatch_test.fillna(Xbatch_defaults_median)\n",
    "\n",
    "reg_batch = LazyRegressor(verbose=0, ignore_warnings=False, custom_metric=None)\n",
    "models_batch, predictions_batch = reg_batch.fit(Xbatch_tr, Xbatch_te, ybatch_train, ybatch_test)\n",
    "\n",
    "print(models_batch)"
   ]
  },
  {
   "cell_type": "markdown",
   "metadata": {},
   "source": [
    "### As expected, these results are nearly identical to those imputed with median. In fact, the only difference in the extra trees regressor is an improvement of 0.02 in time taken. I'm going to stick to the original extra trees regressor (imputed with the median) for easier comparison to feature selection work.\n"
   ]
  },
  {
   "cell_type": "code",
   "execution_count": 47,
   "metadata": {},
   "outputs": [
    {
     "name": "stdout",
     "output_type": "stream",
     "text": [
      "R-squared: (0.9997976796178256, 0.589406817787024)\n",
      "MAE: (0.0007107461061677659, 0.38250675545816454)\n",
      "MSE: (0.00019675983068449137, 0.43663623090805787)\n",
      "CV Scores: [0.48339017 0.52686386 0.61127718 0.29351034 0.45425128]\n",
      "CV Score Mean: 0.47385856525361036\n",
      "CV Score Std: 0.1045889265341208\n",
      "CV Score 95% CI: [0.26 0.68]\n"
     ]
    }
   ],
   "source": [
    "pipe = make_pipeline(\n",
    "    SimpleImputer(strategy='median'), \n",
    "    StandardScaler(), \n",
    "    ExtraTreesRegressor()\n",
    ")\n",
    "\n",
    "pipe.fit(Xbatch_tr, ybatch_train)\n",
    "\n",
    "y_tr_pred = pipe.predict(Xbatch_tr)\n",
    "y_te_pred = pipe.predict(Xbatch_te)\n",
    "\n",
    "#R-squared\n",
    "print(f\"R-squared: {r2_score(ybatch_train, y_tr_pred), r2_score(ybatch_test, y_te_pred)}\")\n",
    "\n",
    "#MAE\n",
    "print(f\"MAE: {mean_absolute_error(ybatch_train, y_tr_pred), mean_absolute_error(ybatch_test, y_te_pred)}\")\n",
    "\n",
    "#MSE\n",
    "print(f\"MSE: {mean_squared_error(ybatch_train, y_tr_pred), mean_squared_error(ybatch_test, y_te_pred)}\")\n",
    "\n",
    "cv_results = cross_validate(pipe, Xbatch_tr, ybatch_train, cv=5)\n",
    "cv_scores = cv_results['test_score']\n",
    "print(f\"CV Scores: {cv_scores}\")\n",
    "print(f\"CV Score Mean: {np.mean(cv_scores)}\")\n",
    "print(f\"CV Score Std: {np.std(cv_scores)}\")\n",
    "print(f\"CV Score 95% CI: {np.round((np.mean(cv_scores) - 2 * np.std(cv_scores), np.mean(cv_scores) + 2 * np.std(cv_scores)), 2)}\")\n"
   ]
  },
  {
   "cell_type": "markdown",
   "metadata": {},
   "source": [
    "## Hyperparameter search using GridSearchCV (with Extra Trees Regressor)"
   ]
  },
  {
   "cell_type": "code",
   "execution_count": 48,
   "metadata": {},
   "outputs": [
    {
     "name": "stdout",
     "output_type": "stream",
     "text": [
      "R-squared: (0.9987399710857119, 0.5617380718680407)\n",
      "MAE: (0.003604079140225948, 0.38830381804227093)\n",
      "MSE: (0.0012253984159598381, 0.4660599462919901)\n",
      "CV Scores: [0.4980042  0.52611885 0.50437451 0.21701914 0.26496313]\n",
      "CV Score Mean: 0.40209596809683357\n",
      "CV Score Std: 0.13274020552431928\n",
      "CV Score 95% CI: [0.14 0.67]\n"
     ]
    },
    {
     "data": {
      "text/plain": [
       "Text(0.5, 1.0, 'Best extra trees regressor feature importances')"
      ]
     },
     "execution_count": 48,
     "metadata": {},
     "output_type": "execute_result"
    },
    {
     "data": {
      "image/png": "[encoded data removed]",
      "text/plain": [
       "<Figure size 720x360 with 1 Axes>"
      ]
     },
     "metadata": {
      "needs_background": "light"
     },
     "output_type": "display_data"
    },
    {
     "data": {
      "image/png": "[encoded data removed]",
      "text/plain": [
       "<Figure size 720x360 with 1 Axes>"
      ]
     },
     "metadata": {
      "needs_background": "light"
     },
     "output_type": "display_data"
    }
   ],
   "source": [
    "pipe = make_pipeline(\n",
    "    SimpleImputer(strategy='median'), \n",
    "    StandardScaler(),\n",
    "    SelectKBest(score_func=f_regression, k=8),\n",
    "    ExtraTreesRegressor()\n",
    ")\n",
    "\n",
    "pipe.fit(Xbatch_tr, ybatch_train)\n",
    "\n",
    "y_tr_pred = pipe.predict(Xbatch_tr)\n",
    "y_te_pred = pipe.predict(Xbatch_te)\n",
    "\n",
    "#R-squared\n",
    "print(f\"R-squared: {r2_score(ybatch_train, y_tr_pred), r2_score(ybatch_test, y_te_pred)}\")\n",
    "\n",
    "#MAE\n",
    "print(f\"MAE: {mean_absolute_error(ybatch_train, y_tr_pred), mean_absolute_error(ybatch_test, y_te_pred)}\")\n",
    "\n",
    "#MSE\n",
    "print(f\"MSE: {mean_squared_error(ybatch_train, y_tr_pred), mean_squared_error(ybatch_test, y_te_pred)}\")\n",
    "\n",
    "cv_results = cross_validate(pipe, Xbatch_tr, ybatch_train, cv=5)\n",
    "cv_scores = cv_results['test_score']\n",
    "print(f\"CV Scores: {cv_scores}\")\n",
    "print(f\"CV Score Mean: {np.mean(cv_scores)}\")\n",
    "print(f\"CV Score Std: {np.std(cv_scores)}\")\n",
    "print(f\"CV Score 95% CI: {np.round((np.mean(cv_scores) - 2 * np.std(cv_scores), np.mean(cv_scores) + 2 * np.std(cv_scores)), 2)}\")\n",
    "\n",
    "k = [k+1 for k in range(len(Xbatch_train.columns))]\n",
    "grid_params = {'selectkbest__k': k}\n",
    "\n",
    "etr_grid_cv = GridSearchCV(pipe, param_grid=grid_params, cv=5, n_jobs=-1)\n",
    "\n",
    "etr_grid_cv.fit(Xbatch_train, ybatch_train)\n",
    "\n",
    "score_mean = etr_grid_cv.cv_results_['mean_test_score']\n",
    "score_std = etr_grid_cv.cv_results_['std_test_score']\n",
    "cv_k = [k for k in etr_grid_cv.cv_results_['param_selectkbest__k']]\n",
    "\n",
    "#Print the `best_params_` attribute of `lr_grid_cv`\n",
    "etr_grid_cv.best_params_\n",
    "\n",
    "#Assign the value of k from the above dict of `best_params_` and assign it to `best_k`\n",
    "best_k = etr_grid_cv.best_params_['selectkbest__k']\n",
    "plt.subplots(figsize=(10, 5))\n",
    "plt.errorbar(cv_k, score_mean, yerr=score_std)\n",
    "plt.axvline(x=best_k, c='r', ls='--', alpha=.5)\n",
    "plt.xlabel('k')\n",
    "plt.ylabel('CV score (r-squared)')\n",
    "plt.title('Pipeline mean CV score (error bars +/- 1sd)')\n",
    "\n",
    "#Plot a barplot of the random forest's feature importances\n",
    "plt.subplots(figsize=(10, 5))\n",
    "imps = etr_grid_cv.best_estimator_.named_steps.extratreesregressor.feature_importances_\n",
    "rf_feat_imps = pd.Series(imps, index=Xbatch_train.columns).sort_values(ascending=False)\n",
    "rf_feat_imps.plot(kind='bar')\n",
    "plt.xlabel('features')\n",
    "plt.ylabel('importance')\n",
    "plt.title('Best extra trees regressor feature importances')"
   ]
  },
  {
   "cell_type": "markdown",
   "metadata": {},
   "source": [
    "## Feature Selection"
   ]
  },
  {
   "cell_type": "markdown",
   "metadata": {},
   "source": [
    "### To make it more useful in practice, I am going to investigate a model without the features that we don't know prior to brew day. This would be removing pre_run_dump_volume_log, cu_high_log, and cu_low_log. Further, since total_hops_log is of lowest importance and derived from the other hop values, I will remove it as well."
   ]
  },
  {
   "cell_type": "code",
   "execution_count": 49,
   "metadata": {},
   "outputs": [
    {
     "name": "stdout",
     "output_type": "stream",
     "text": [
      "      base_malt_pct_log  Boil Kettle_log  Whirlpool_log  Fermenter_log  \\\n",
      "663                2.84             0.02          -0.01           0.02   \n",
      "1110               0.76             0.02          -0.01           0.02   \n",
      "336                1.16             0.02          -0.01           0.02   \n",
      "898               -1.23             0.02          -0.01           0.02   \n",
      "640                0.82             1.14          -0.27           0.68   \n",
      "\n",
      "      fermenter_temperature_log  cu_setpoint_log  original_gravity_log  \n",
      "663                        0.43             0.74                  2.33  \n",
      "1110                       0.02            -0.71                  0.41  \n",
      "336                        0.65             0.74                 -1.32  \n",
      "898                       -1.45             1.19                  2.67  \n",
      "640                        0.19             1.37                  0.48  \n",
      "     base_malt_pct_log  Boil Kettle_log  Whirlpool_log  Fermenter_log  \\\n",
      "908              -1.78             0.02          -0.01           0.02   \n",
      "110               0.47             0.79           0.22           0.54   \n",
      "577              -0.30            -0.77          -1.12          -1.24   \n",
      "482              -0.07            -0.92          -0.19          -0.30   \n",
      "70                0.47             0.79           0.22           0.54   \n",
      "\n",
      "     fermenter_temperature_log  cu_setpoint_log  original_gravity_log  \n",
      "908                      -1.33             1.19                 -0.63  \n",
      "110                      -0.68            -0.71                  0.37  \n",
      "577                       1.92            -0.06                 -0.94  \n",
      "482                       1.12             0.12                 -1.39  \n",
      "70                       -0.43             0.74                  0.37  \n"
     ]
    }
   ],
   "source": [
    "Xbatch_tr = Xbatch_tr.drop([\"pre_run_dump_volume_log\", \"cu_high_log\", \"cu_low_log\", \"Total Hops_log\"], axis=1)\n",
    "Xbatch_te = Xbatch_te.drop([\"pre_run_dump_volume_log\", \"cu_high_log\", \"cu_low_log\", \"Total Hops_log\"], axis=1)\n",
    "\n",
    "print(Xbatch_tr.head())\n",
    "print(Xbatch_te.head())\n"
   ]
  },
  {
   "cell_type": "code",
   "execution_count": 52,
   "metadata": {},
   "outputs": [
    {
     "name": "stdout",
     "output_type": "stream",
     "text": [
      "R-squared: (0.9730419040181483, 0.48243624999556123)\n",
      "MAE: (0.03588413982754078, 0.46021613535282757)\n",
      "MSE: (0.026217182589114502, 0.5503917133708232)\n",
      "CV Scores: [0.17652384 0.35483546 0.4713545  0.15147276 0.26088927]\n",
      "CV Score Mean: 0.28301516649540215\n",
      "CV Score Std: 0.11812131150852201\n",
      "CV Score 95% CI: [0.05 0.52]\n"
     ]
    },
    {
     "data": {
      "text/plain": [
       "Text(0.5, 1.0, 'Best random forest regressor feature importances')"
      ]
     },
     "execution_count": 52,
     "metadata": {},
     "output_type": "execute_result"
    },
    {
     "data": {
      "image/png": "[encoded data removed]",
      "text/plain": [
       "<Figure size 720x360 with 1 Axes>"
      ]
     },
     "metadata": {
      "needs_background": "light"
     },
     "output_type": "display_data"
    },
    {
     "data": {
      "image/png": "[encoded data removed]",
      "text/plain": [
       "<Figure size 720x360 with 1 Axes>"
      ]
     },
     "metadata": {
      "needs_background": "light"
     },
     "output_type": "display_data"
    }
   ],
   "source": [
    "pipe = make_pipeline(\n",
    "    SimpleImputer(strategy='median'), \n",
    "    StandardScaler(),\n",
    "    SelectKBest(score_func=f_regression, k=7),\n",
    "    ExtraTreesRegressor()\n",
    ")\n",
    "\n",
    "pipe.fit(Xbatch_tr, ybatch_train)\n",
    "\n",
    "y_tr_pred = pipe.predict(Xbatch_tr)\n",
    "y_te_pred = pipe.predict(Xbatch_te)\n",
    "\n",
    "#R-squared\n",
    "print(f\"R-squared: {r2_score(ybatch_train, y_tr_pred), r2_score(ybatch_test, y_te_pred)}\")\n",
    "\n",
    "#MAE\n",
    "print(f\"MAE: {mean_absolute_error(ybatch_train, y_tr_pred), mean_absolute_error(ybatch_test, y_te_pred)}\")\n",
    "\n",
    "#MSE\n",
    "print(f\"MSE: {mean_squared_error(ybatch_train, y_tr_pred), mean_squared_error(ybatch_test, y_te_pred)}\")\n",
    "\n",
    "cv_results = cross_validate(pipe, Xbatch_tr, ybatch_train, cv=5)\n",
    "cv_scores = cv_results['test_score']\n",
    "print(f\"CV Scores: {cv_scores}\")\n",
    "print(f\"CV Score Mean: {np.mean(cv_scores)}\")\n",
    "print(f\"CV Score Std: {np.std(cv_scores)}\")\n",
    "print(f\"CV Score 95% CI: {np.round((np.mean(cv_scores) - 2 * np.std(cv_scores), np.mean(cv_scores) + 2 * np.std(cv_scores)), 2)}\")\n",
    "\n",
    "k = [k+1 for k in range(len(Xbatch_tr.columns))]\n",
    "grid_params = {'selectkbest__k': k}\n",
    "\n",
    "etr_grid_cv = GridSearchCV(pipe, param_grid=grid_params, cv=5, n_jobs=-1)\n",
    "\n",
    "etr_grid_cv.fit(Xbatch_tr, ybatch_train)\n",
    "\n",
    "score_mean = etr_grid_cv.cv_results_['mean_test_score']\n",
    "score_std = etr_grid_cv.cv_results_['std_test_score']\n",
    "cv_k = [k for k in etr_grid_cv.cv_results_['param_selectkbest__k']]\n",
    "\n",
    "#Print the `best_params_` attribute of `lr_grid_cv`\n",
    "etr_grid_cv.best_params_\n",
    "\n",
    "#Assign the value of k from the above dict of `best_params_` and assign it to `best_k`\n",
    "best_k = etr_grid_cv.best_params_['selectkbest__k']\n",
    "plt.subplots(figsize=(10, 5))\n",
    "plt.errorbar(cv_k, score_mean, yerr=score_std)\n",
    "plt.axvline(x=best_k, c='r', ls='--', alpha=.5)\n",
    "plt.xlabel('k')\n",
    "plt.ylabel('CV score (r-squared)')\n",
    "plt.title('Pipeline mean CV score (error bars +/- 1sd)')\n",
    "\n",
    "#Plot a barplot of the random forest's feature importances\n",
    "plt.subplots(figsize=(10, 5))\n",
    "imps = etr_grid_cv.best_estimator_.named_steps.extratreesregressor.feature_importances_\n",
    "rf_feat_imps = pd.Series(imps, index=Xbatch_tr.columns).sort_values(ascending=False)\n",
    "rf_feat_imps.plot(kind='bar')\n",
    "plt.xlabel('features')\n",
    "plt.ylabel('importance')\n",
    "plt.title('Best random forest regressor feature importances')"
   ]
  },
  {
   "cell_type": "markdown",
   "metadata": {},
   "source": [
    "### There is definitely a cost with removing features, but most of the cost is on the training data prediction. The performance on the test data was impacted, but not nearly as much as the training data. This suggests the dropped features were resulting in the regressor training to the training data and not necessarily performing much better on unseen data. Regardless of any shortcomings with the model of fewer features, the extra trees regressor is the best model for this data."
   ]
  },
  {
   "cell_type": "markdown",
   "metadata": {},
   "source": []
  }
 ],
 "metadata": {
  "interpreter": {
   "hash": "5aba52893a57ee58c7bf441bea12636afd893df5c52c2aeb773e3c18226953a5"
  },
  "kernelspec": {
   "display_name": "Python 3.8.10 64-bit ('Springboard': conda)",
   "name": "python3"
  },
  "language_info": {
   "codemirror_mode": {
    "name": "ipython",
    "version": 3
   },
   "file_extension": ".py",
   "mimetype": "text/x-python",
   "name": "python",
   "nbconvert_exporter": "python",
   "pygments_lexer": "ipython3",
   "version": "3.8.10"
  },
  "toc": {
   "base_numbering": 1,
   "nav_menu": {},
   "number_sections": true,
   "sideBar": true,
   "skip_h1_title": false,
   "title_cell": "Table of Contents",
   "title_sidebar": "Contents",
   "toc_cell": false,
   "toc_position": {},
   "toc_section_display": true,
   "toc_window_display": true
  },
  "varInspector": {
   "cols": {
    "lenName": 16,
    "lenType": 16,
    "lenVar": 40
   },
   "kernels_config": {
    "python": {
     "delete_cmd_postfix": "",
     "delete_cmd_prefix": "del ",
     "library": "var_list.py",
     "varRefreshCmd": "print(var_dic_list())"
    },
    "r": {
     "delete_cmd_postfix": ") ",
     "delete_cmd_prefix": "rm(",
     "library": "var_list.r",
     "varRefreshCmd": "cat(var_dic_list()) "
    }
   },
   "types_to_exclude": [
    "module",
    "function",
    "builtin_function_or_method",
    "instance",
    "_Feature"
   ],
   "window_display": false
  }
 },
 "nbformat": 4,
 "nbformat_minor": 4
}
